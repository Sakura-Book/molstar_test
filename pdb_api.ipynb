{
 "cells": [
  {
   "cell_type": "markdown",
   "metadata": {},
   "source": [
    "# PDB Data APIを試す\n",
    "- 参考: https://qiita.com/TSU_mi/items/c105c37e9c58977b2a1e "
   ]
  },
  {
   "cell_type": "markdown",
   "metadata": {},
   "source": [
    "## PDBのAPIを使って、chain idを取得したい"
   ]
  },
  {
   "cell_type": "markdown",
   "metadata": {},
   "source": [
    "### chainの数"
   ]
  },
  {
   "cell_type": "code",
   "execution_count": 8,
   "metadata": {},
   "outputs": [],
   "source": [
    "import requests\n",
    "def get_chain_count(pdb_id):\n",
    "    url = f'https://data.rcsb.org/rest/v1/core/entry/{pdb_id}'\n",
    "    response = requests.get(url)\n",
    "    if response.status_code == 200:\n",
    "        data = response.json()\n",
    "        entities = data.get('rcsb_entry_container_identifiers', {}).get('polymer_entity_ids', [])\n",
    "        return len(entities), entities\n",
    "    else:\n",
    "        print(f'Error: Unable to fetch data for PDB ID {pdb_id}')\n",
    "        return None\n"
   ]
  },
  {
   "cell_type": "code",
   "execution_count": 9,
   "metadata": {},
   "outputs": [
    {
     "name": "stdout",
     "output_type": "stream",
     "text": [
      "PDB ID 6l62 のチェーン数: 3\n",
      "PDB ID 6l62 のエントリ: ['1', '2', '3']\n"
     ]
    }
   ],
   "source": [
    "pdb_id = '6l62'  # 例として PDB ID '1TUP' を使用\n",
    "chain_count, entries = get_chain_count(pdb_id)\n",
    "if chain_count is not None:\n",
    "    print(f'PDB ID {pdb_id} のチェーン数: {chain_count}')\n",
    "    print(f'PDB ID {pdb_id} のエントリ: {entries}')\n"
   ]
  },
  {
   "cell_type": "markdown",
   "metadata": {},
   "source": [
    "### chain instanceの数(こちらを採用)"
   ]
  },
  {
   "cell_type": "code",
   "execution_count": 12,
   "metadata": {},
   "outputs": [],
   "source": [
    "def get_chain_info(pdb_id):\n",
    "    url = f'https://data.rcsb.org/rest/v1/core/polymer_entity/{pdb_id}/1'\n",
    "    response = requests.get(url)\n",
    "    if response.status_code == 200:\n",
    "        data = response.json()\n",
    "        # チェーン数の取得\n",
    "        chain_count = len(data.get('rcsb_polymer_entity_container_identifiers', {}).get('auth_asym_ids', []))\n",
    "        # 各チェーンのインスタンス数の取得\n",
    "        chain_instances = data.get('rcsb_polymer_entity_container_identifiers', {}).get('auth_asym_ids', [])\n",
    "        return chain_count, chain_instances\n",
    "    else:\n",
    "        print(f'Error: Unable to fetch data for PDB ID {pdb_id}')\n",
    "        return None, None\n"
   ]
  },
  {
   "cell_type": "code",
   "execution_count": 13,
   "metadata": {},
   "outputs": [
    {
     "name": "stdout",
     "output_type": "stream",
     "text": [
      "PDB ID 6l62 のチェーン数: 1\n",
      "各チェーンのインスタンス: ['L']\n"
     ]
    }
   ],
   "source": [
    "pdb_id = '6l62'  # 例として PDB ID '1TUP' を使用\n",
    "chain_count, chain_instances = get_chain_info(pdb_id)\n",
    "if chain_count is not None:\n",
    "    print(f'PDB ID {pdb_id} のチェーン数: {chain_count}')\n",
    "    print(f'各チェーンのインスタンス: {chain_instances}')\n"
   ]
  },
  {
   "cell_type": "markdown",
   "metadata": {},
   "source": [
    "### 他のカテゴリでも試してみる"
   ]
  },
  {
   "cell_type": "code",
   "execution_count": 14,
   "metadata": {},
   "outputs": [
    {
     "name": "stdout",
     "output_type": "stream",
     "text": [
      "PDB ID 6l62 のチェーン数: 1\n",
      "各チェーンのインスタンス: ['A']\n"
     ]
    }
   ],
   "source": [
    "def get_chain_info(pdb_id):\n",
    "    url = f'https://data.rcsb.org/rest/v1/core/polymer_entity/{pdb_id}/1'\n",
    "    response = requests.get(url)\n",
    "    if response.status_code == 200:\n",
    "        data = response.json()\n",
    "        # チェーン数の取得\n",
    "        chain_count = len(data.get('rcsb_polymer_entity_container_identifiers', {}).get('asym_ids', []))\n",
    "        # 各チェーンのインスタンス数の取得\n",
    "        chain_instances = data.get('rcsb_polymer_entity_container_identifiers', {}).get('asym_ids', [])\n",
    "        return chain_count, chain_instances\n",
    "    else:\n",
    "        print(f'Error: Unable to fetch data for PDB ID {pdb_id}')\n",
    "        return None, None\n",
    "    \n",
    "pdb_id = '6l62'  # 例として PDB ID '1TUP' を使用\n",
    "chain_count, chain_instances = get_chain_info(pdb_id)\n",
    "if chain_count is not None:\n",
    "    print(f'PDB ID {pdb_id} のチェーン数: {chain_count}')\n",
    "    print(f'各チェーンのインスタンス: {chain_instances}')\n"
   ]
  },
  {
   "cell_type": "code",
   "execution_count": 15,
   "metadata": {},
   "outputs": [],
   "source": [
    "# save json file\n",
    "import json\n",
    "pdb_id = '6l62'\n",
    "with open('6l62.json', 'w') as f:\n",
    "    json.dump(requests.get(f'https://data.rcsb.org/rest/v1/core/polymer_entity/{pdb_id}/1').json(), f, indent=4)\n"
   ]
  },
  {
   "cell_type": "code",
   "execution_count": 16,
   "metadata": {},
   "outputs": [
    {
     "data": {
      "text/plain": [
       "(5, ['A', 'B', 'C', 'D', 'E'])"
      ]
     },
     "execution_count": 16,
     "metadata": {},
     "output_type": "execute_result"
    }
   ],
   "source": [
    "get_chain_info('1stm')"
   ]
  },
  {
   "cell_type": "code",
   "execution_count": 17,
   "metadata": {},
   "outputs": [
    {
     "name": "stdout",
     "output_type": "stream",
     "text": [
      "PDB ID 6l62 のチェーン数: 0\n",
      "各チェーンのインスタンス: []\n"
     ]
    }
   ],
   "source": [
    "def get_chain_info(pdb_id):\n",
    "    url = f'https://data.rcsb.org/rest/v1/core/polymer_entity/{pdb_id}/1'\n",
    "    response = requests.get(url)\n",
    "    if response.status_code == 200:\n",
    "        data = response.json()\n",
    "        # チェーン数の取得\n",
    "        chain_count = len(data.get('rcsb_polymer_entity_container_identifiers', {}).get('label_asym_ids', []))\n",
    "        # 各チェーンのインスタンス数の取得\n",
    "        chain_instances = data.get('rcsb_polymer_entity_container_identifiers', {}).get('label_asym_ids', [])\n",
    "        return chain_count, chain_instances\n",
    "    else:\n",
    "        print(f'Error: Unable to fetch data for PDB ID {pdb_id}')\n",
    "        return None, None\n",
    "    \n",
    "pdb_id = '6l62'  # 例として PDB ID '1TUP' を使用\n",
    "chain_count, chain_instances = get_chain_info(pdb_id)\n",
    "if chain_count is not None:\n",
    "    print(f'PDB ID {pdb_id} のチェーン数: {chain_count}')\n",
    "    print(f'各チェーンのインスタンス: {chain_instances}')\n"
   ]
  },
  {
   "cell_type": "code",
   "execution_count": 18,
   "metadata": {},
   "outputs": [
    {
     "name": "stdout",
     "output_type": "stream",
     "text": [
      "PDB ID 6l62 のチェーン数: 0\n",
      "各チェーンのインスタンス: []\n"
     ]
    }
   ],
   "source": [
    "def get_chain_info(pdb_id):\n",
    "    url = f'https://data.rcsb.org/rest/v1/core/polymer_entity/{pdb_id}/1'\n",
    "    response = requests.get(url)\n",
    "    if response.status_code == 200:\n",
    "        data = response.json()\n",
    "        # チェーン数の取得\n",
    "        chain_count = len(data.get('rcsb_polymer_entity_container_identifiers.auth_asym_ids', []))\n",
    "        # 各チェーンのインスタンス数の取得\n",
    "        chain_instances = data.get('entity_src_gen', {}).get('pdbx_beg_seq_num', [])\n",
    "        return chain_count, chain_instances\n",
    "    else:\n",
    "        print(f'Error: Unable to fetch data for PDB ID {pdb_id}')\n",
    "        return None, None\n",
    "    \n",
    "pdb_id = '6l62'  # 例として PDB ID '1TUP' を使用\n",
    "chain_count, chain_instances = get_chain_info(pdb_id)\n",
    "if chain_count is not None:\n",
    "    print(f'PDB ID {pdb_id} のチェーン数: {chain_count}')\n",
    "    print(f'各チェーンのインスタンス: {chain_instances}')\n"
   ]
  },
  {
   "cell_type": "code",
   "execution_count": 24,
   "metadata": {},
   "outputs": [
    {
     "name": "stdout",
     "output_type": "stream",
     "text": [
      "PDB ID 1stm のチェーン数: 5\n",
      "各チェーンのインスタンス: ['A', 'B', 'C', 'D', 'E']\n"
     ]
    }
   ],
   "source": [
    "def get_chain_info(pdb_id):\n",
    "    url = f'https://data.rcsb.org/rest/v1/core/polymer_entity/{pdb_id}/1'\n",
    "    response = requests.get(url)\n",
    "    if response.status_code == 200:\n",
    "        data = response.json()\n",
    "        # チェーン数の取得\n",
    "        chain_count = len(data.get('rcsb_polymer_entity_container_identifiers', {}).get('auth_asym_ids', []))\n",
    "        # 各チェーンのインスタンス数の取得\n",
    "        chain_instances = data.get('rcsb_polymer_entity_container_identifiers', {}).get('auth_asym_ids', [])\n",
    "        return chain_count, chain_instances\n",
    "    else:\n",
    "        print(f'Error: Unable to fetch data for PDB ID {pdb_id}')\n",
    "        return None, None\n",
    "\n",
    "pdb_id = '1stm'  # 例として PDB ID '1TUP' を使用\n",
    "chain_count, chain_instances = get_chain_info(pdb_id)\n",
    "if chain_count is not None:\n",
    "    print(f'PDB ID {pdb_id} のチェーン数: {chain_count}')\n",
    "    print(f'各チェーンのインスタンス: {chain_instances}')"
   ]
  },
  {
   "cell_type": "markdown",
   "metadata": {},
   "source": [
    "## query"
   ]
  },
  {
   "cell_type": "code",
   "execution_count": 3,
   "metadata": {},
   "outputs": [],
   "source": [
    "import requests\n",
    "import os\n",
    "import json"
   ]
  },
  {
   "cell_type": "code",
   "execution_count": 6,
   "metadata": {},
   "outputs": [],
   "source": [
    "query = {\n",
    "  \"query\": {\n",
    "    \"type\": \"terminal\",\n",
    "    \"service\": \"text\",\n",
    "    \"parameters\": {\n",
    "      \"attribute\": \"exptl.method\",\n",
    "      \"operator\": \"exact_match\",\n",
    "      \"value\": \"ELECTRON MICROSCOPY\"\n",
    "    }\n",
    "  },\n",
    "  \"request_options\": {\n",
    "    \"results_content_type\": [\n",
    "      \"experimental\"\n",
    "    ],\n",
    "    \"paginate\": {\n",
    "      \"start\": 0,\n",
    "      \"rows\": 25\n",
    "    }\n",
    "  },\n",
    "  \"return_type\": \"entry\"\n",
    "}"
   ]
  },
  {
   "cell_type": "code",
   "execution_count": null,
   "metadata": {},
   "outputs": [
    {
     "name": "stdout",
     "output_type": "stream",
     "text": [
      "200\n",
      "{'query_id': 'a997e504-3c4a-4ef4-aac0-0dcd83bbf3b6', 'result_type': 'entry', 'total_count': 23103, 'result_set': [{'identifier': '1C2W', 'score': 1.0}, {'identifier': '1C2X', 'score': 1.0}, {'identifier': '1D3E', 'score': 1.0}, {'identifier': '1D3I', 'score': 1.0}, {'identifier': '1DGI', 'score': 1.0}, {'identifier': '1DYL', 'score': 1.0}, {'identifier': '1EG0', 'score': 1.0}, {'identifier': '1FCW', 'score': 1.0}, {'identifier': '1FOQ', 'score': 1.0}, {'identifier': '1GR5', 'score': 1.0}, {'identifier': '1GRU', 'score': 1.0}, {'identifier': '1GW7', 'score': 1.0}, {'identifier': '1GW8', 'score': 1.0}, {'identifier': '1HB5', 'score': 1.0}, {'identifier': '1HB7', 'score': 1.0}, {'identifier': '1HB9', 'score': 1.0}, {'identifier': '1IA0', 'score': 1.0}, {'identifier': '1IF0', 'score': 1.0}, {'identifier': '1JEW', 'score': 1.0}, {'identifier': '1JQM', 'score': 1.0}, {'identifier': '1JQS', 'score': 1.0}, {'identifier': '1JQT', 'score': 1.0}, {'identifier': '1K4R', 'score': 1.0}, {'identifier': '1KJU', 'score': 1.0}, {'identifier': '1KVP', 'score': 1.0}]}\n",
      "23103\n",
      "25\n",
      "['1C2W', '1C2X', '1D3E', '1D3I', '1DGI', '1DYL', '1EG0', '1FCW', '1FOQ', '1GR5', '1GRU', '1GW7', '1GW8', '1HB5', '1HB7', '1HB9', '1IA0', '1IF0', '1JEW', '1JQM', '1JQS', '1JQT', '1K4R', '1KJU', '1KVP']\n"
     ]
    }
   ],
   "source": [
    "# Serch API の URL\n",
    "base_url=\"https://search.rcsb.org/rcsbsearch/v2/query\"\n",
    "\n",
    "# レスポンスの取得\n",
    "response = requests.post(base_url, json=query) #getではなくpostを使用\n",
    "print(response.status_code) # ステータスコードの確認\n",
    "data = response.json() # 結果をjson形式で取得\n",
    "print(data) # 結果の確認\n",
    "\n",
    "# PDBIDを格納するリスト\n",
    "pdb_ids = []\n",
    "\n",
    "# dataの内、PDBIDだけを取得\n",
    "for entry in data['result_set']:\n",
    "    pdb_ids.append(entry['identifier'])\n",
    "\n",
    "print(data['total_count']) #検索結果数\n",
    "print(len(pdb_ids)) #取得されたPDBIDの数\n",
    "print(pdb_ids) #取得されたPDBID"
   ]
  },
  {
   "cell_type": "code",
   "execution_count": null,
   "metadata": {},
   "outputs": [],
   "source": []
  }
 ],
 "metadata": {
  "kernelspec": {
   "display_name": "base",
   "language": "python",
   "name": "python3"
  },
  "language_info": {
   "codemirror_mode": {
    "name": "ipython",
    "version": 3
   },
   "file_extension": ".py",
   "mimetype": "text/x-python",
   "name": "python",
   "nbconvert_exporter": "python",
   "pygments_lexer": "ipython3",
   "version": "3.10.12"
  }
 },
 "nbformat": 4,
 "nbformat_minor": 2
}
