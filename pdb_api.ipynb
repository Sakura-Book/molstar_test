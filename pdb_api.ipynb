{
 "cells": [
  {
   "cell_type": "markdown",
   "metadata": {},
   "source": [
    "# PDB Data APIを試す\n",
    "- 参考: https://qiita.com/TSU_mi/items/c105c37e9c58977b2a1e "
   ]
  },
  {
   "cell_type": "code",
   "execution_count": 3,
   "metadata": {},
   "outputs": [],
   "source": [
    "import requests\n",
    "import os\n",
    "import json"
   ]
  },
  {
   "cell_type": "code",
   "execution_count": 6,
   "metadata": {},
   "outputs": [],
   "source": [
    "query = {\n",
    "  \"query\": {\n",
    "    \"type\": \"terminal\",\n",
    "    \"service\": \"text\",\n",
    "    \"parameters\": {\n",
    "      \"attribute\": \"exptl.method\",\n",
    "      \"operator\": \"exact_match\",\n",
    "      \"value\": \"ELECTRON MICROSCOPY\"\n",
    "    }\n",
    "  },\n",
    "  \"request_options\": {\n",
    "    \"results_content_type\": [\n",
    "      \"experimental\"\n",
    "    ],\n",
    "    \"paginate\": {\n",
    "      \"start\": 0,\n",
    "      \"rows\": 25\n",
    "    }\n",
    "  },\n",
    "  \"return_type\": \"entry\"\n",
    "}"
   ]
  },
  {
   "cell_type": "code",
   "execution_count": null,
   "metadata": {},
   "outputs": [
    {
     "name": "stdout",
     "output_type": "stream",
     "text": [
      "200\n",
      "{'query_id': 'a997e504-3c4a-4ef4-aac0-0dcd83bbf3b6', 'result_type': 'entry', 'total_count': 23103, 'result_set': [{'identifier': '1C2W', 'score': 1.0}, {'identifier': '1C2X', 'score': 1.0}, {'identifier': '1D3E', 'score': 1.0}, {'identifier': '1D3I', 'score': 1.0}, {'identifier': '1DGI', 'score': 1.0}, {'identifier': '1DYL', 'score': 1.0}, {'identifier': '1EG0', 'score': 1.0}, {'identifier': '1FCW', 'score': 1.0}, {'identifier': '1FOQ', 'score': 1.0}, {'identifier': '1GR5', 'score': 1.0}, {'identifier': '1GRU', 'score': 1.0}, {'identifier': '1GW7', 'score': 1.0}, {'identifier': '1GW8', 'score': 1.0}, {'identifier': '1HB5', 'score': 1.0}, {'identifier': '1HB7', 'score': 1.0}, {'identifier': '1HB9', 'score': 1.0}, {'identifier': '1IA0', 'score': 1.0}, {'identifier': '1IF0', 'score': 1.0}, {'identifier': '1JEW', 'score': 1.0}, {'identifier': '1JQM', 'score': 1.0}, {'identifier': '1JQS', 'score': 1.0}, {'identifier': '1JQT', 'score': 1.0}, {'identifier': '1K4R', 'score': 1.0}, {'identifier': '1KJU', 'score': 1.0}, {'identifier': '1KVP', 'score': 1.0}]}\n",
      "23103\n",
      "25\n",
      "['1C2W', '1C2X', '1D3E', '1D3I', '1DGI', '1DYL', '1EG0', '1FCW', '1FOQ', '1GR5', '1GRU', '1GW7', '1GW8', '1HB5', '1HB7', '1HB9', '1IA0', '1IF0', '1JEW', '1JQM', '1JQS', '1JQT', '1K4R', '1KJU', '1KVP']\n"
     ]
    }
   ],
   "source": [
    "# Serch API の URL\n",
    "base_url=\"https://search.rcsb.org/rcsbsearch/v2/query\"\n",
    "\n",
    "# レスポンスの取得\n",
    "response = requests.post(base_url, json=query) #getではなくpostを使用\n",
    "print(response.status_code) # ステータスコードの確認\n",
    "data = response.json() # 結果をjson形式で取得\n",
    "print(data) # 結果の確認\n",
    "\n",
    "# PDBIDを格納するリスト\n",
    "pdb_ids = []\n",
    "\n",
    "# dataの内、PDBIDだけを取得\n",
    "for entry in data['result_set']:\n",
    "    pdb_ids.append(entry['identifier'])\n",
    "\n",
    "print(data['total_count']) #検索結果数\n",
    "print(len(pdb_ids)) #取得されたPDBIDの数\n",
    "print(pdb_ids) #取得されたPDBID"
   ]
  },
  {
   "cell_type": "code",
   "execution_count": null,
   "metadata": {},
   "outputs": [],
   "source": []
  }
 ],
 "metadata": {
  "kernelspec": {
   "display_name": "base",
   "language": "python",
   "name": "python3"
  },
  "language_info": {
   "codemirror_mode": {
    "name": "ipython",
    "version": 3
   },
   "file_extension": ".py",
   "mimetype": "text/x-python",
   "name": "python",
   "nbconvert_exporter": "python",
   "pygments_lexer": "ipython3",
   "version": "3.10.12"
  }
 },
 "nbformat": 4,
 "nbformat_minor": 2
}
