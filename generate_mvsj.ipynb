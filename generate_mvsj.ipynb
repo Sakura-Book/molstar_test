{
 "cells": [
  {
   "cell_type": "code",
   "execution_count": 1,
   "metadata": {},
   "outputs": [
    {
     "name": "stdout",
     "output_type": "stream",
     "text": [
      "{\n",
      "  \"root\": {\n",
      "    \"kind\": \"root\",\n",
      "    \"children\": [\n",
      "      {\n",
      "        \"kind\": \"download\",\n",
      "        \"params\": {\n",
      "          \"url\": \"https://files.wwpdb.org/download/1cbs.cif\"\n",
      "        },\n",
      "        \"children\": [\n",
      "          {\n",
      "            \"kind\": \"parse\",\n",
      "            \"params\": {\n",
      "              \"format\": \"mmcif\"\n",
      "            },\n",
      "            \"children\": [\n",
      "              {\n",
      "                \"kind\": \"structure\",\n",
      "                \"params\": {\n",
      "                  \"type\": \"assembly\",\n",
      "                  \"assembly_id\": \"1\"\n",
      "                },\n",
      "                \"children\": [\n",
      "                  {\n",
      "                    \"kind\": \"component\",\n",
      "                    \"params\": {\n",
      "                      \"selector\": \"all\"\n",
      "                    },\n",
      "                    \"children\": [\n",
      "                      {\n",
      "                        \"kind\": \"representation\",\n",
      "                        \"params\": {\n",
      "                          \"type\": \"cartoon\"\n",
      "                        }\n",
      "                      }\n",
      "                    ]\n",
      "                  }\n",
      "                ]\n",
      "              }\n",
      "            ]\n",
      "          }\n",
      "        ]\n",
      "      }\n",
      "    ]\n",
      "  },\n",
      "  \"metadata\": {\n",
      "    \"version\": \"1.0\",\n",
      "    \"timestamp\": \"2024-11-09T07:06:27.488373+00:00\"\n",
      "  }\n",
      "}\n"
     ]
    }
   ],
   "source": [
    "import molviewspec as mvs\n",
    "\n",
    "# call `create_builder()` to create an instance of the builder\n",
    "builder = mvs.create_builder()\n",
    "# at each step, auto-complete will suggest possible actions depending on the current state of the builder\n",
    "(\n",
    "    builder.download(url='https://files.wwpdb.org/download/1cbs.cif')\n",
    "    .parse(format='mmcif')\n",
    "    .assembly_structure(assembly_id='1')\n",
    "    .component()\n",
    "    .representation()\n",
    ")\n",
    "\n",
    "# finally, we pretty-print everything to the console\n",
    "print(builder.get_state())"
   ]
  },
  {
   "cell_type": "code",
   "execution_count": null,
   "metadata": {},
   "outputs": [],
   "source": []
  },
  {
   "cell_type": "code",
   "execution_count": null,
   "metadata": {},
   "outputs": [],
   "source": []
  }
 ],
 "metadata": {
  "kernelspec": {
   "display_name": "base",
   "language": "python",
   "name": "python3"
  },
  "language_info": {
   "codemirror_mode": {
    "name": "ipython",
    "version": 3
   },
   "file_extension": ".py",
   "mimetype": "text/x-python",
   "name": "python",
   "nbconvert_exporter": "python",
   "pygments_lexer": "ipython3",
   "version": "3.10.12"
  }
 },
 "nbformat": 4,
 "nbformat_minor": 2
}
