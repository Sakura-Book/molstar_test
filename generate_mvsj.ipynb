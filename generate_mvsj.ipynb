{
 "cells": [
  {
   "cell_type": "code",
   "execution_count": 2,
   "metadata": {},
   "outputs": [
    {
     "ename": "ImportError",
     "evalue": "cannot import name 'PrivateAttr' from 'pydantic' (/Users/yingh/.pyenv/versions/anaconda3-2023.03/lib/python3.10/site-packages/pydantic/__init__.py)",
     "output_type": "error",
     "traceback": [
      "\u001b[0;31m---------------------------------------------------------------------------\u001b[0m",
      "\u001b[0;31mImportError\u001b[0m                               Traceback (most recent call last)",
      "Cell \u001b[0;32mIn[2], line 1\u001b[0m\n\u001b[0;32m----> 1\u001b[0m \u001b[38;5;28;01mimport\u001b[39;00m \u001b[38;5;21;01mmolviewspec\u001b[39;00m \u001b[38;5;28;01mas\u001b[39;00m \u001b[38;5;21;01mmvs\u001b[39;00m\n\u001b[1;32m      3\u001b[0m \u001b[38;5;66;03m# call `create_builder()` to create an instance of the builder\u001b[39;00m\n\u001b[1;32m      4\u001b[0m builder \u001b[38;5;241m=\u001b[39m mvs\u001b[38;5;241m.\u001b[39mcreate_builder()\n",
      "File \u001b[0;32m~/.pyenv/versions/anaconda3-2023.03/lib/python3.10/site-packages/molviewspec/__init__.py:5\u001b[0m\n\u001b[1;32m      1\u001b[0m \u001b[38;5;124;03m\"\"\"MolViewSpec\"\"\"\u001b[39;00m\n\u001b[1;32m      3\u001b[0m __version__ \u001b[38;5;241m=\u001b[39m \u001b[38;5;124m\"\u001b[39m\u001b[38;5;124m1.0.0\u001b[39m\u001b[38;5;124m\"\u001b[39m\n\u001b[0;32m----> 5\u001b[0m \u001b[38;5;28;01mfrom\u001b[39;00m \u001b[38;5;21;01mmolviewspec\u001b[39;00m\u001b[38;5;21;01m.\u001b[39;00m\u001b[38;5;21;01mbuilder\u001b[39;00m \u001b[38;5;28;01mimport\u001b[39;00m create_builder\n\u001b[1;32m      6\u001b[0m \u001b[38;5;28;01mfrom\u001b[39;00m \u001b[38;5;21;01mmolviewspec\u001b[39;00m\u001b[38;5;21;01m.\u001b[39;00m\u001b[38;5;21;01mnodes\u001b[39;00m \u001b[38;5;28;01mimport\u001b[39;00m ComponentExpression, validate_state_tree\n",
      "File \u001b[0;32m~/.pyenv/versions/anaconda3-2023.03/lib/python3.10/site-packages/molviewspec/builder.py:13\u001b[0m\n\u001b[1;32m     10\u001b[0m \u001b[38;5;28;01mfrom\u001b[39;00m \u001b[38;5;21;01mos\u001b[39;00m \u001b[38;5;28;01mimport\u001b[39;00m path\n\u001b[1;32m     11\u001b[0m \u001b[38;5;28;01mfrom\u001b[39;00m \u001b[38;5;21;01mtyping\u001b[39;00m \u001b[38;5;28;01mimport\u001b[39;00m Sequence\n\u001b[0;32m---> 13\u001b[0m \u001b[38;5;28;01mfrom\u001b[39;00m \u001b[38;5;21;01mpydantic\u001b[39;00m \u001b[38;5;28;01mimport\u001b[39;00m BaseModel, PrivateAttr\n\u001b[1;32m     15\u001b[0m \u001b[38;5;28;01mfrom\u001b[39;00m \u001b[38;5;21;01mmolviewspec\u001b[39;00m\u001b[38;5;21;01m.\u001b[39;00m\u001b[38;5;21;01mnodes\u001b[39;00m \u001b[38;5;28;01mimport\u001b[39;00m (\n\u001b[1;32m     16\u001b[0m     CameraParams,\n\u001b[1;32m     17\u001b[0m     CanvasParams,\n\u001b[0;32m   (...)\u001b[0m\n\u001b[1;32m     47\u001b[0m     TransformParams,\n\u001b[1;32m     48\u001b[0m )\n\u001b[1;32m     49\u001b[0m \u001b[38;5;28;01mfrom\u001b[39;00m \u001b[38;5;21;01mmolviewspec\u001b[39;00m\u001b[38;5;21;01m.\u001b[39;00m\u001b[38;5;21;01mutils\u001b[39;00m \u001b[38;5;28;01mimport\u001b[39;00m get_major_version_tag, make_params\n",
      "\u001b[0;31mImportError\u001b[0m: cannot import name 'PrivateAttr' from 'pydantic' (/Users/yingh/.pyenv/versions/anaconda3-2023.03/lib/python3.10/site-packages/pydantic/__init__.py)"
     ]
    }
   ],
   "source": [
    "import molviewspec as mvs\n",
    "\n",
    "# call `create_builder()` to create an instance of the builder\n",
    "builder = mvs.create_builder()\n",
    "# at each step, auto-complete will suggest possible actions depending on the current state of the builder\n",
    "(\n",
    "    builder.download(url='https://files.wwpdb.org/download/1cbs.cif')\n",
    "    .parse(format='mmcif')\n",
    "    .assembly_structure(assembly_id='1')\n",
    "    .component()\n",
    "    .representation()\n",
    ")\n",
    "\n",
    "# finally, we pretty-print everything to the console\n",
    "print(builder.get_state())"
   ]
  },
  {
   "cell_type": "code",
   "execution_count": null,
   "metadata": {},
   "outputs": [],
   "source": []
  }
 ],
 "metadata": {
  "kernelspec": {
   "display_name": "base",
   "language": "python",
   "name": "python3"
  },
  "language_info": {
   "codemirror_mode": {
    "name": "ipython",
    "version": 3
   },
   "file_extension": ".py",
   "mimetype": "text/x-python",
   "name": "python",
   "nbconvert_exporter": "python",
   "pygments_lexer": "ipython3",
   "version": "3.10.12"
  }
 },
 "nbformat": 4,
 "nbformat_minor": 2
}
