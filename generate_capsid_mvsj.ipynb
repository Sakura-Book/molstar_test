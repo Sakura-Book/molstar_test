{
 "cells": [
  {
   "cell_type": "markdown",
   "metadata": {},
   "source": [
    "# generate_capsid_mvsj.ipynb\n",
    "- 指定したT-numberのcapsidのPDB情報を[VIPERdb](https://viperdb.org/)から取得し、[MolViewSpec](https://molstar.org/mol-view-spec/)を使ってmvsj形式で書き出すためのノートブックです。\n",
    "- mvsjファイルは、[molstar](https://molstar.org/)という分子ビューアで読み込むことができます。\n",
    "\n",
    "## 注意\n",
    "事前準備として、SSL証明書を取得しておく必要があります。\n",
    "1. [viperdb]()にアクセスして、サーバーの証明書・中間証明書・ルート証明書をエクスポート\n",
    "2. 証明書を連結する\n",
    "   ```\n",
    "   cat [サーバの証明書] [中間証明書] [ルート証明書] > full_chain.pem\n",
    "   ```\n",
    "\n",
    "上の作業が面倒な場合は、自己責任で以下のコードの`cert=False`に設定してください。"
   ]
  },
  {
   "cell_type": "markdown",
   "metadata": {},
   "source": [
    "## T=1だけmvsjにエクスポート"
   ]
  },
  {
   "cell_type": "code",
   "execution_count": null,
   "metadata": {},
   "outputs": [],
   "source": [
    "T_NUMBER = 1 # capsidのT-number\n",
    "BASE_URL = 'http://viperdb.org' # VIPERdbのURL\n",
    "BASE_DIR = 'mvsj_files' # ファイルを保存するディレクトリ\n",
    "os.makedirs(BASE_DIR, exist_ok=True)\n",
    "CERTIFICATE = './full_chain.pem' # SSL証明書"
   ]
  },
  {
   "cell_type": "code",
   "execution_count": 7,
   "metadata": {},
   "outputs": [],
   "source": [
    "import molviewspec as mvs\n",
    "import os\n",
    "import numpy as np\n",
    "import requests\n",
    "from tqdm.notebook import tqdm\n",
    "from matplotlib import colormaps as cmaps"
   ]
  },
  {
   "cell_type": "code",
   "execution_count": 8,
   "metadata": {},
   "outputs": [
    {
     "data": {
      "text/plain": [
       "['#1f77b4',\n",
       " '#aec7e8',\n",
       " '#ff7f0e',\n",
       " '#ffbb78',\n",
       " '#2ca02c',\n",
       " '#98df8a',\n",
       " '#d62728',\n",
       " '#ff9896',\n",
       " '#9467bd',\n",
       " '#c5b0d5',\n",
       " '#8c564b',\n",
       " '#c49c94',\n",
       " '#e377c2',\n",
       " '#f7b6d2',\n",
       " '#7f7f7f',\n",
       " '#c7c7c7',\n",
       " '#bcbd22',\n",
       " '#dbdb8d',\n",
       " '#17becf',\n",
       " '#9edae5',\n",
       " '#1f77b4']"
      ]
     },
     "execution_count": 8,
     "metadata": {},
     "output_type": "execute_result"
    }
   ],
   "source": [
    "def get_chain_colors(num_chains, cmap='tab20'):\n",
    "    \"\"\"\n",
    "    Get a list of colors for each chain in a PDB entry.\n",
    "    Parameters\n",
    "    ----------\n",
    "    num_chains : int\n",
    "        The number of chains in the PDB entry.\n",
    "    cmap : str, optional\n",
    "        The name of the matplotlib colormap to use for generating colors.\n",
    "    Returns\n",
    "    -------\n",
    "    chain_colors : list\n",
    "        A list of color codes for each chain in the PDB entry.\n",
    "    \"\"\"\n",
    "    # カラーマップの取得\n",
    "    colormap = cmaps.get_cmap(cmap)\n",
    "    # チェーン数に応じたカラーの取得\n",
    "    chain_colors = [colormap(i%len(colormap.colors)) for i in range(num_chains)]\n",
    "    # 16進数のカラーコードに変換\n",
    "    chain_colors = [f'#{int(r*255):02x}{int(g*255):02x}{int(b*255):02x}' for r, g, b, _ in chain_colors]\n",
    "    return chain_colors\n",
    "\n",
    "# test\n",
    "get_chain_colors(21)"
   ]
  },
  {
   "cell_type": "code",
   "execution_count": 9,
   "metadata": {},
   "outputs": [],
   "source": [
    "def get_chain_info(pdb_id):\n",
    "    \"\"\"\n",
    "    Get the number of chains and chain instances for a PDB entry.\n",
    "    Parameters\n",
    "    ----------\n",
    "    pdb_id : str\n",
    "        The PDB ID of the entry.\n",
    "    Returns\n",
    "    -------\n",
    "    chain_count : int\n",
    "        The number of chains in the PDB entry.\n",
    "    chain_instances : list\n",
    "        The chain instances in the PDB entry.\n",
    "    \"\"\"\n",
    "    url = f'https://data.rcsb.org/rest/v1/core/polymer_entity/{pdb_id}/1'\n",
    "    response = requests.get(url)\n",
    "    if response.status_code == 200:\n",
    "        data = response.json()\n",
    "        # チェーン数の取得\n",
    "        chain_count = len(data.get('rcsb_polymer_entity_container_identifiers', {}).get('auth_asym_ids', []))\n",
    "        # 各チェーンのインスタンス数の取得\n",
    "        chain_instances = data.get('rcsb_polymer_entity_container_identifiers', {}).get('auth_asym_ids', [])\n",
    "        return chain_count, chain_instances\n",
    "    else:\n",
    "        # print(f'Error: Unable to fetch data for PDB ID {pdb_id}')\n",
    "        return None, None\n"
   ]
  },
  {
   "cell_type": "code",
   "execution_count": null,
   "metadata": {},
   "outputs": [],
   "source": [
    "def save_mvsj(pdb_id, filepath, cmap='tab20'):\n",
    "    \"\"\"\n",
    "    Save a MolViewSpec JSON file for a PDB entry.\n",
    "    Parameters\n",
    "    ----------\n",
    "    pdb_id : str\n",
    "        The PDB ID of the entry to save.\n",
    "    \"\"\"\n",
    "    # call `create_builder()` to create an instance of the builder\n",
    "    builder = mvs.create_builder()\n",
    "    # at each step, auto-complete will suggest possible actions depending on the current state of the builder\n",
    "    structure = builder.download(url=f\"https://files.wwpdb.org/download/{pdb_id.lower()}.cif\").parse(format=\"mmcif\").assembly_structure()\n",
    "\n",
    "    chain_count, chain_instances = get_chain_info(pdb_id)\n",
    "\n",
    "    # PDBが存在しない場合は、処理を終了(2stvなど)\n",
    "    if chain_count is None:\n",
    "        return\n",
    "    \n",
    "    if chain_count != 0:\n",
    "        chain_colors = get_chain_colors(chain_count, cmap=cmap)\n",
    "        for i, chain in enumerate(chain_instances):\n",
    "            # 各chainについて、surfaceを描画\n",
    "            # print(f\"Chain {chain}: {chain_instances[i]} instances\")\n",
    "            chain_structure = structure.component(selector=mvs.ComponentExpression(auth_asym_id=chain))\n",
    "            chain_structure.representation(type=\"surface\").color(color=chain_colors[i])\n",
    "    else:\n",
    "        # chainがない場合は、全体をsurfaceで描画\n",
    "        structure.component().representation(type=\"surface\").color(color=\"white\")\n",
    "\n",
    "    # finally, we pretty-print everything to the console\n",
    "    # print(builder.get_state())\n",
    "    builder.save_state(destination=filepath)"
   ]
  },
  {
   "cell_type": "code",
   "execution_count": 12,
   "metadata": {},
   "outputs": [
    {
     "name": "stdout",
     "output_type": "stream",
     "text": [
      "Entries: {'Adenoviridae': [{'entry_id': '2c9g', 'name': 'Adenovirus Type 2 Penton Base Dodecahedron', 'family': 'Adenoviridae', 'genus': 'Mastadenovirus', 'resolution': '9.30'}, {'entry_id': '2c9f', 'name': 'Adenovirus Type 3 Penton', 'family': 'Adenoviridae', 'genus': 'Mastadenovirus', 'resolution': '16.50'}, {'entry_id': '4aqq', 'name': 'DODECAHEDRON FORMED OF PENTON BASE PROTEIN FROM ADENOVIRUS A', 'family': 'Adenoviridae', 'genus': 'Mastadenovirus', 'resolution': '4.75'}, {'entry_id': '4ar2', 'name': 'DODECAHEDRON FORMED OF PENTON BASE PROTEIN FROM ADENOVIRUS A', 'family': 'Adenoviridae', 'genus': 'Mastadenovirus', 'resolution': '3.80'}, {'entry_id': '1x9p', 'name': 'Human Adenovirus 2 Penton Base', 'family': 'Adenoviridae', 'genus': 'Mastadenovirus', 'resolution': '3.30'}, {'entry_id': '1x9t', 'name': 'Human Adenovirus 2 Penton Base In Complex With An Ad2 N-Terminal Fibre Peptide', 'family': 'Adenoviridae', 'genus': 'Mastadenovirus', 'resolution': '3.50'}, {'entry_id': '2c6s', 'name': 'HUMAN ADENOVIRUS PENTON BASE 2 12 CHIMERA', 'family': 'Adenoviridae', 'genus': 'Mastadenovirus', 'resolution': '3.60'}, {'entry_id': '6hcr', 'name': 'Synthetic Self-assembling ADDomer Platform for High Efficient Vaccination by Genetically-encoded Multi-Display', 'family': 'Adenoviridae', 'genus': 'Mastadenovirus', 'resolution': '3.50'}], 'Albetovirus': {'8': {'entry_id': '2stv', 'name': 'Satellite Tobacco Necrosis Virus', 'family': 'Albetovirus', 'genus': 'Tobacco albetovirus 1', 'resolution': '2.50'}}, 'Birnaviridae': {'9': {'entry_id': '1wcd', 'name': 'Avian Infectious bursal disease virus, sub-viral particle', 'family': 'Birnaviridae', 'genus': 'Avibirnavirus', 'resolution': '3.00'}, '10': {'entry_id': '2df7', 'name': 'CRYSTAL STRUCTURE OF INFECTIOUS BURSAL DISEASE VIRUS VP2 SUB PARTICLE', 'family': 'Birnaviridae', 'genus': 'Avibirnavirus', 'resolution': '2.60'}, '11': {'entry_id': '3fbm', 'name': 'D431N Mutant VP2 Protein of Infectious Bursal Disease Virus; Derived T=1 Particles', 'family': 'Birnaviridae', 'genus': 'Avibirnavirus', 'resolution': '3.10'}, '12': {'entry_id': '3ide', 'name': 'STRUCTURE OF IPNV SUBVIRAL PARTICLE', 'family': 'Birnaviridae', 'genus': 'Aquabirnavirus', 'resolution': '3.35'}, '13': {'entry_id': '2gsy', 'name': 'THE 2.6A STRUCTURE OF INFECTIOUS BURSAL VIRUS DERIVED T=1 PARTICLES', 'family': 'Birnaviridae', 'genus': 'Avibirnavirus', 'resolution': '2.60'}}, 'Bromoviridae': {'14': {'entry_id': 'amv', 'name': 'Alfalfa Mosaic Virus', 'family': 'Bromoviridae', 'genus': 'Alfamovirus', 'resolution': '4.00'}, '15': {'entry_id': '7epp', 'name': 'RECOMBINANT ALFALFA MOSAIC VIRUS COAT PROTEIN VIRUS-LIKE PARTICLE (RAMV-CP VLP)', 'family': 'Bromoviridae', 'genus': 'Alfamovirus', 'resolution': '2.40'}, '16': {'entry_id': '1yc6', 'name': 'T=1 Particle of Brome Mosaic Virus', 'family': 'Bromoviridae', 'genus': 'Bromovirus', 'resolution': '2.90'}}, 'Caliciviridae': {'17': {'entry_id': '6ouc', 'name': 'ASYMMETRIC FOCSUED RECONSTRUCTION OF HUMAN NOROVIRUS GII.2 S MOUNTAIN VIRUS STRAIN VLP ASYMMETRIC UNIT IN T=1 SYMMETRY', 'family': 'Caliciviridae', 'genus': 'Norovirus', 'resolution': '2.80'}, '18': {'entry_id': '4pb6', 'name': 'FELINE CALICIVIRUS VP1 T=1 VIRUS-LIKE PARTICLE', 'family': 'Caliciviridae', 'genus': 'Vesivirus', 'resolution': '8.00'}}, 'Chrysoviridae': {'19': {'entry_id': '3j3i', 'name': 'PENICILLIUM CHRYSOGENUM VIRUS (PCV) CAPSID STRUCTURE', 'family': 'Chrysoviridae', 'genus': 'Alphachrysovirus', 'resolution': '4.10'}}, 'Circoviridae': {'20': {'entry_id': '3jci', 'name': '2.9 Angstrom Resolution Cryo-EM 3-D Reconstruction of Close-packed PCV2 Virus-like Particles', 'family': 'Circoviridae', 'genus': 'Circovirus', 'resolution': '2.90'}, '21': {'entry_id': '6rpo', 'name': 'bat circovirus without DNA VLP', 'family': 'Circoviridae', 'genus': 'Circovirus', 'resolution': '2.39'}, '22': {'entry_id': '5zbo', 'name': 'CRYO-EM STRUCTURE OF PCV2 VLPS', 'family': 'Circoviridae', 'genus': 'Circovirus', 'resolution': '4.12'}, '23': {'entry_id': '5j36', 'name': 'CRYSTAL STRUCTURE OF 60-MER BFDV CAPSID PROTEIN', 'family': 'Circoviridae', 'genus': 'Circovirus', 'resolution': '2.55'}, '24': {'entry_id': '5j37', 'name': 'CRYSTAL STRUCTURE OF 60-MER BFDV CAPSID PROTEIN IN COMPLEX WITH SINGLE STRANDED DNA', 'family': 'Circoviridae', 'genus': 'Circovirus', 'resolution': '2.30'}, '25': {'entry_id': '5zju', 'name': 'CRYSTAL STRUCTURE OF IN VITRO EXPRESSED AND ASSEMBLED PCV2 V PARTICLE', 'family': 'Circoviridae', 'genus': 'Circovirus', 'resolution': '2.80'}, '26': {'entry_id': '6rpl', 'name': 'Expanded bat circovirus with DNA VLP', 'family': 'Circoviridae', 'genus': 'Circovirus', 'resolution': '3.85'}, '27': {'entry_id': '6l62', 'name': 'Neutralization mechanism of a monoclonal antibody targeting a porcine circovirus type 2 Cap protein conformational epitope', 'family': 'Circoviridae', 'genus': 'Circovirus', 'resolution': '7.20'}, '28': {'entry_id': '6lm3', 'name': 'NEUTRALIZATION MECHANISM OF A MONOCLONAL ANTIBODY TARGETING A PORCINE CIRCOVIRUS TYPE 2 CAP PROTEIN CONFORMATIONAL EPITOPE', 'family': 'Circoviridae', 'genus': 'Circovirus', 'resolution': '6.70'}, '29': {'entry_id': '6rpk', 'name': 'non-expanded bat circovirus with DNA VLP', 'family': 'Circoviridae', 'genus': 'Circovirus', 'resolution': '2.84'}, '30': {'entry_id': '6ola', 'name': 'Structural characterization of the PCV2d virus-like at 3.3 angstrom resolution reveals differences to P PCV2b capsids, a tetranucleotide, and an N-terminus icosahedral 3-fold axes.', 'family': 'Circoviridae', 'genus': 'Circovirus', 'resolution': '3.30'}, '31': {'entry_id': '6dzu', 'name': 'Structure of Porcine Circovirus 2 at 3.2 Angstroms resolution', 'family': 'Circoviridae', 'genus': 'Circovirus', 'resolution': '3.30'}, '32': {'entry_id': '6e2r', 'name': 'Structure of Porcine Circovirus 2 at 3.2 Angstroms resolution', 'family': 'Circoviridae', 'genus': 'Circovirus', 'resolution': '2.80'}, '33': {'entry_id': '6e2x', 'name': 'Structure of Porcine Circovirus 2 at 3.2 Angstroms resolution', 'family': 'Circoviridae', 'genus': 'Circovirus', 'resolution': '3.50'}, '34': {'entry_id': '6e30', 'name': 'Structure of Porcine Circovirus 2 at 3.2 Angstroms resolution', 'family': 'Circoviridae', 'genus': 'Circovirus', 'resolution': '3.50'}, '35': {'entry_id': '6e32', 'name': 'Structure of Porcine Circovirus 2 at 3.2 Angstroms resolution', 'family': 'Circoviridae', 'genus': 'Circovirus', 'resolution': '3.40'}, '36': {'entry_id': '6e34', 'name': 'Structure of Porcine Circovirus 2 at 3.2 Angstroms resolution', 'family': 'Circoviridae', 'genus': 'Circovirus', 'resolution': '3.60'}, '37': {'entry_id': '6e39', 'name': 'Structure of Porcine Circovirus 2 at 3.2 Angstroms resolution', 'family': 'Circoviridae', 'genus': 'Circovirus', 'resolution': '3.50'}, '38': {'entry_id': '6e2z', 'name': 'Structure of Porcine Circovirus 2 at 3.4 Angstroms resolution', 'family': 'Circoviridae', 'genus': 'Circovirus', 'resolution': '3.40'}, '39': {'entry_id': '3r0r', 'name': 'The 2.3 A structure of porcine circovirus 2', 'family': 'Circoviridae', 'genus': 'Circovirus', 'resolution': '2.35'}}, 'Fiersviridae': {'40': {'entry_id': '7tje', 'name': 'BACTERIOPHAGE Q BETA CAPSID PROTEIN A38K', 'family': 'Fiersviridae', 'genus': 'Qubevirus', 'resolution': '2.80'}, '41': {'entry_id': '7tjd', 'name': 'BACTERIOPHAGE Q BETA CAPSID PROTEIN IN T1 SYMMETRY', 'family': 'Fiersviridae', 'genus': 'Qubevirus', 'resolution': '3.50'}, '42': {'entry_id': '7tjg', 'name': 'BACTERIOPHAGE Q BETA CAPSID PROTEIN, A38K/A40C/D102C IN T1 SYMMETRY', 'family': 'Fiersviridae', 'genus': 'Qubevirus', 'resolution': '3.90'}, '43': {'entry_id': '4zor', 'name': 'THE STRUCTURE OF THE S37P MS2 VIRAL CAPSID ASSEMBLY.', 'family': 'Fiersviridae', 'genus': 'Emesvirus', 'resolution': '2.20'}}, 'Geminiviridae': {'44': {'entry_id': '8uh4', 'name': 'Cryo-EM structure of Maize Streak Virus (MSV) -single head Geminivirus', 'family': 'Geminiviridae', 'genus': 'Mastrevirus', 'resolution': '3.72'}}, 'Hepeviridae': {'45': {'entry_id': '2zzq', 'name': 'CRYSTAL STRUCTURE ANALYSIS OF THE HEV CAPSID PROTEIN, PORF2', 'family': 'Hepeviridae', 'genus': 'Paslahepevirus', 'resolution': '3.81'}, '46': {'entry_id': '3hag', 'name': 'Crystal structure of the Hepatitis E Virus-like Particle', 'family': 'Hepeviridae', 'genus': 'Paslahepevirus', 'resolution': '3.50'}, '47': {'entry_id': '2ztn', 'name': 'Hepatitis E virus ORF2 (Genotype 3)', 'family': 'Hepeviridae', 'genus': 'Paslahepevirus', 'resolution': '3.56'}, '48': {'entry_id': '6lat', 'name': 'The cryo-EM structure of HEV VLP', 'family': 'Hepeviridae', 'genus': 'Paslahepevirus', 'resolution': '3.40'}, '49': {'entry_id': '6lb0', 'name': 'The cryo-EM structure of HEV VLP in complex with Fab 8C11', 'family': 'Hepeviridae', 'genus': 'Paslahepevirus', 'resolution': '3.60'}}, 'Leviviridae': {'50': {'entry_id': '6yfb', 'name': 'Virus-like particle of bacteriophage AVE016', 'family': 'Leviviridae', 'genus': 'MS2-like capsids', 'resolution': '3.59'}, '51': {'entry_id': '6yfr', 'name': 'Virus-like particle of bacteriophage NT-391', 'family': 'Leviviridae', 'genus': 'MS2-like capsids', 'resolution': '2.60'}}, 'Microviridae': {'52': {'entry_id': '1rb8', 'name': '&Phi;-X 174 DNA binding protein J', 'family': 'Microviridae', 'genus': 'Alphatrevirus', 'resolution': '3.50'}, '53': {'entry_id': '1m06', 'name': 'Bacteriophage &alpha;3', 'family': 'Microviridae', 'genus': 'Alphatrevirus', 'resolution': '3.50'}, '54': {'entry_id': '2bpa', 'name': 'Bacteriophage &Phi;-X 174', 'family': 'Microviridae', 'genus': 'Sinsheimervirus', 'resolution': '3.00'}, '55': {'entry_id': '1gff', 'name': 'Bacteriophage G4', 'family': 'Microviridae', 'genus': 'Gequatrovirus', 'resolution': '3.00'}, '56': {'entry_id': '8des', 'name': 'Gokushovirus EC6098', 'family': 'Microviridae', 'genus': 'Enterogokushovirus', 'resolution': '2.60'}, '57': {'entry_id': '1cd3', 'name': 'PROCAPSID OF BACTERIOPHAGE PHIX174', 'family': 'Microviridae', 'genus': 'Sinsheimervirus', 'resolution': '3.50'}, '58': {'entry_id': '1al0', 'name': 'PROCAPSID OF BACTERIOPHAGE PHIX174', 'family': 'Microviridae', 'genus': 'Sinsheimervirus', 'resolution': '3.50'}, '59': {'entry_id': '1kvp', 'name': 'Spiroplasma Virus (SPV4)', 'family': 'Microviridae', 'genus': 'Sinsheimervirus', 'resolution': '27.00'}, '60': {'entry_id': '1m0f', 'name': 'Structural Studies of Bacteriophage alpha3 Assembly, Cryo-electron microscopy', 'family': 'Microviridae', 'genus': 'Alphatrevirus', 'resolution': '16.00'}}, 'Nanoparticles': {'61': {'entry_id': '5hpn', 'name': 'A CIRCULARLY PERMUTED PDUA FORMING AN ICOSAHEDRAL CAGE', 'family': 'Nanoparticles', 'genus': 'Nanoparticles', 'resolution': '2.51'}, '62': {'entry_id': '8dna', 'name': 'Acidipropionibacterium acidipropionici encapsulin in a closed state at pH 3.0', 'family': 'Nanoparticles', 'genus': 'Nanoparticles', 'resolution': '2.77'}, '63': {'entry_id': '8dn9', 'name': 'Acidipropionibacterium acidipropionici encapsulin in a closed state at pH 7.5', 'family': 'Nanoparticles', 'genus': 'Nanoparticles', 'resolution': '2.90'}, '64': {'entry_id': '8dnl', 'name': 'ACIDIPROPIONIBACTERIUM ACIDIPROPIONICI ENCAPSULIN IN AN OPEN STATE AT PH 7.5', 'family': 'Nanoparticles', 'genus': 'Nanoparticles', 'resolution': '3.32'}, '65': {'entry_id': '8t6r', 'name': 'Acinetobacter baumannii 118362 family 2A cargo-loaded encapsulin shell', 'family': 'Nanoparticles', 'genus': 'Nanoparticles', 'resolution': '1.78'}, '66': {'entry_id': '6ct0', 'name': 'Atomic Structure of the E2 Inner Core of Human Pyruvate Dehydrogenase Complex', 'family': 'Nanoparticles', 'genus': 'Nanoparticles', 'resolution': '3.10'}, '67': {'entry_id': '6p6f', 'name': 'BG505 SOSIP-I53-50NP', 'family': 'Nanoparticles', 'genus': 'Nanoparticles', 'resolution': '4.50'}, '68': {'entry_id': '8eqn', 'name': 'BG505 UFO-E2p-L4P nanoparticle reconstructed by focused refinement with a mask around the nanoparticle core', 'family': 'Nanoparticles', 'genus': 'Nanoparticles', 'resolution': '3.70'}, '69': {'entry_id': '7bcv', 'name': 'Brevibacterium linens encapsulin structure', 'family': 'Nanoparticles', 'genus': 'Nanoparticles', 'resolution': '2.28'}, '70': {'entry_id': '7bgj', 'name': 'C. thermophilum Pyruvate Dehydrogenase Complex Core', 'family': 'Nanoparticles', 'genus': 'Nanoparticles', 'resolution': '6.90'}, '71': {'entry_id': '8qbx', 'name': 'Chimeric Adenovirus-derived dodecamer', 'family': 'Nanoparticles', 'genus': 'Nanoparticles', 'resolution': '2.20'}, '72': {'entry_id': '6h55', 'name': 'core of the human pyruvate dehydrogenase (E2)', 'family': 'Nanoparticles', 'genus': 'Nanoparticles', 'resolution': '6.00'}, '73': {'entry_id': '7kq5', 'name': 'CRYO-EM STRUCTURE OF A THERMOSTABLE ENCAPSULIN FROM T. MARITIMA', 'family': 'Nanoparticles', 'genus': 'Nanoparticles', 'resolution': '2.00'}, '74': {'entry_id': '7eq9', 'name': 'Cryo-EM structure of designed protein nanoparticle TIP60 (Truncated Icosahedral Protein composed of 60-mer fusion proteins)', 'family': 'Nanoparticles', 'genus': 'Nanoparticles', 'resolution': '3.30'}, '75': {'entry_id': '7p1t', 'name': 'Cryo-EM structure of encapsulin from Mycobacterium tuberculosis', 'family': 'Nanoparticles', 'genus': 'Nanoparticles', 'resolution': '2.29'}, '76': {'entry_id': '6wkv', 'name': 'Cryo-EM structure of engineered variant of the Encapsulin from Thermotoga maritima (TmE)', 'family': 'Nanoparticles', 'genus': 'Nanoparticles', 'resolution': '2.99'}, '77': {'entry_id': '7k5w', 'name': 'Cryo-EM structure of heterologous protein complex loaded Thermotoga maritima encapsulin capsid', 'family': 'Nanoparticles', 'genus': 'Nanoparticles', 'resolution': '2.87'}, '78': {'entry_id': '8f25', 'name': 'CRYO-EM STRUCTURE OF LUMAZINE SYNTHASE NANOPARTICLE LINKED TO VP8* ANTIGEN', 'family': 'Nanoparticles', 'genus': 'Nanoparticles', 'resolution': '2.60'}, '79': {'entry_id': '7xm1', 'name': 'Cryo-EM structure of mTIP60-Ba (metal-ion induced TIP60 (K67E) complex with barium ions', 'family': 'Nanoparticles', 'genus': 'Nanoparticles', 'resolution': '3.96'}, '80': {'entry_id': '7phm', 'name': 'Cryo-EM structure of Mycobacterium tuberculosis encapsulin', 'family': 'Nanoparticles', 'genus': 'Nanoparticles', 'resolution': '2.20'}, '81': {'entry_id': '8pys', 'name': 'Cryo-EM structure of the DyP peroxidase-loaded encapsulin nanocompartment from Mycobacterium tuberculosis with icosahedral symmetry imposed', 'family': 'Nanoparticles', 'genus': 'Nanoparticles', 'resolution': '2.70'}, '82': {'entry_id': '7boj', 'name': 'Cryo-EM structure of the encapsulin shell from Mycobacterium smegmatis', 'family': 'Nanoparticles', 'genus': 'Nanoparticles', 'resolution': '2.50'}, '83': {'entry_id': '8ika', 'name': 'Cryo-EM structure of the encapsulin shell from Mycobacterium tuberculo', 'family': 'Nanoparticles', 'genus': 'Nanoparticles', 'resolution': '2.75'}, '84': {'entry_id': '5im6', 'name': 'CRYSTAL STRUCTURE OF DESIGNED TWO-COMPONENT SELF-ASSEMBLING ICOSAHEDRAL CAGE I32-28', 'family': 'Nanoparticles', 'genus': 'Nanoparticles', 'resolution': '5.59'}, '85': {'entry_id': '5im4', 'name': 'CRYSTAL STRUCTURE OF DESIGNED TWO-COMPONENT SELF-ASSEMBLING ICOSAHEDRAL CAGE I52-32', 'family': 'Nanoparticles', 'genus': 'Nanoparticles', 'resolution': '3.50'}, '86': {'entry_id': '5im5', 'name': 'CRYSTAL STRUCTURE OF DESIGNED TWO-COMPONENT SELF-ASSEMBLING ICOSAHEDRAL CAGE I53-40', 'family': 'Nanoparticles', 'genus': 'Nanoparticles', 'resolution': '3.70'}, '87': {'entry_id': '6i9g', 'name': 'CRYSTAL STRUCTURE OF ENCAPSULIN FROM MYCOLICIBACTERIUM HASSI', 'family': 'Nanoparticles', 'genus': 'Nanoparticles', 'resolution': '2.50'}, '88': {'entry_id': '4v7g', 'name': 'Crystal Structure of Lumazine Synthase from Bacillus Anthracis', 'family': 'Nanoparticles', 'genus': 'Nanoparticles', 'resolution': '3.50'}, '89': {'entry_id': '4v46', 'name': 'Crystal structure of the BAFF-BAFF-R complex', 'family': 'Nanoparticles', 'genus': 'Nanoparticles', 'resolution': '3.30'}, '90': {'entry_id': '6vfj', 'name': 'De novo designed icosahedral nanoparticle I53_dn5', 'family': 'Nanoparticles', 'genus': 'Nanoparticles', 'resolution': '5.35'}, '91': {'entry_id': '6zlo', 'name': 'E2 core of the fungal Pyruvate dehydrogenase complex', 'family': 'Nanoparticles', 'genus': 'Nanoparticles', 'resolution': '2.90'}, '92': {'entry_id': '7uom', 'name': 'Endogenous dihydrolipoamide acetyltransferase (E2) core of pyruvate dehydrogenase complex from bovine kidney', 'family': 'Nanoparticles', 'genus': 'Nanoparticles', 'resolution': '3.80'}, '93': {'entry_id': '7sge', 'name': 'I53-50 nanoparticle core reconstructed from GPC-I53-50NP by focused refinement', 'family': 'Nanoparticles', 'genus': 'Nanoparticles', 'resolution': '3.67'}, '94': {'entry_id': '7x7m', 'name': 'LUMAZINE SYNTHASE FROM AQUIFEX AEOLICUS', 'family': 'Nanoparticles', 'genus': 'Nanoparticles', 'resolution': '2.33'}, '95': {'entry_id': '7s21', 'name': 'M. xanthus encapsulin shell protein EncA with T=1 symmetry', 'family': 'Nanoparticles', 'genus': 'Nanoparticles', 'resolution': '3.40'}, '96': {'entry_id': '7ott', 'name': 'Metabolon-embedded pyruvate dehydrogenase complex E2 core at near-atomic resolution', 'family': 'Nanoparticles', 'genus': 'Nanoparticles', 'resolution': '3.84'}, '97': {'entry_id': '8c9n', 'name': 'MiniCoV-ADDomer, a SARS-CoV-2 epitope presenting viral like', 'family': 'Nanoparticles', 'genus': 'Nanoparticles', 'resolution': '2.36'}, '98': {'entry_id': '7odw', 'name': 'Model of Haliangium ochraceum encapsulin from icosahedral single particle reconstruction', 'family': 'Nanoparticles', 'genus': 'Nanoparticles', 'resolution': '2.50'}, '99': {'entry_id': '7q5r', 'name': 'Protein community member pyruvate dehydrogenase complex E2 core from C. thermophilum', 'family': 'Nanoparticles', 'genus': 'Nanoparticles', 'resolution': '3.84'}, '100': {'entry_id': '8f26', 'name': 'STRUCTURE OF A 60MER DEGP CAGE BOUND TO THE CLIENT PROTEIN HTRF1', 'family': 'Nanoparticles', 'genus': 'Nanoparticles', 'resolution': '9.70'}, '101': {'entry_id': '7b3y', 'name': 'Structure of a nanoparticle for a COVID-19 vaccine candidate', 'family': 'Nanoparticles', 'genus': 'Nanoparticles', 'resolution': '3.70'}, '102': {'entry_id': '8ed3', 'name': 'STRUCTURE OF A NANOPARTICLE WITH ICOSAHEDRAL SYMMETRY', 'family': 'Nanoparticles', 'genus': 'Nanoparticles', 'resolution': '3.50'}, '103': {'entry_id': '8uyo', 'name': 'Structure of a recombinant human PNMA2 capsid', 'family': 'Nanoparticles', 'genus': 'Nanoparticles', 'resolution': '3.30'}, '104': {'entry_id': '5mpp', 'name': 'STRUCTURE OF AALS-WT', 'family': 'Nanoparticles', 'genus': 'Nanoparticles', 'resolution': '3.90'}, '105': {'entry_id': '8e01', 'name': 'Structure of engineered nano-cage fusion protein', 'family': 'Nanoparticles', 'genus': 'Nanoparticles', 'resolution': '3.40'}, '106': {'entry_id': '8pvj', 'name': 'Structure of lumazine synthase determined by cryoEM at 100 keV', 'family': 'Nanoparticles', 'genus': 'Nanoparticles', 'resolution': '3.00'}, '107': {'entry_id': '5kp9', 'name': 'Structure of Nanoparticle Released from Enveloped Protein Nanoparticle', 'family': 'Nanoparticles', 'genus': 'Nanoparticles', 'resolution': '5.70'}, '108': {'entry_id': '8rb3', 'name': 'Structure of the PNMA2 capsid', 'family': 'Nanoparticles', 'genus': 'Nanoparticles', 'resolution': '3.20'}, '109': {'entry_id': '8xb8', 'name': 'THE STRUCTURE OF ASFV A137R', 'family': 'Nanoparticles', 'genus': 'Nanoparticles', 'resolution': '3.40'}, '110': {'entry_id': '7lij', 'name': 'THERMOTOGA MARITIMA ENCAPSULIN NANOCOMPARTMENT PORE MUTANT S1K', 'family': 'Nanoparticles', 'genus': 'Nanoparticles', 'resolution': '2.84'}, '111': {'entry_id': '7lik', 'name': 'THERMOTOGA MARITIMA ENCAPSULIN NANOCOMPARTMENT PORE MUTANT S1R', 'family': 'Nanoparticles', 'genus': 'Nanoparticles', 'resolution': '2.91'}, '112': {'entry_id': '7lis', 'name': 'THERMOTOGA MARITIMA ENCAPSULIN NANOCOMPARTMENT PORE MUTANT S5D', 'family': 'Nanoparticles', 'genus': 'Nanoparticles', 'resolution': '2.96'}, '113': {'entry_id': '7lim', 'name': 'THERMOTOGA MARITIMA ENCAPSULIN NANOCOMPARTMENT PORE MUTANT S6E', 'family': 'Nanoparticles', 'genus': 'Nanoparticles', 'resolution': '2.75'}, '114': {'entry_id': '7lii', 'name': 'THERMOTOGA MARITIMA ENCAPSULIN NANOCOMPARTMENT PORE MUTANT S7D', 'family': 'Nanoparticles', 'genus': 'Nanoparticles', 'resolution': '3.55'}, '115': {'entry_id': '7lit', 'name': 'THERMOTOGA MARITIMA ENCAPSULIN NANOCOMPARTMENT PORE MUTANT S7G', 'family': 'Nanoparticles', 'genus': 'Nanoparticles', 'resolution': '2.53'}, '116': {'entry_id': '7lil', 'name': 'THERMOTOGA MARITIMA ENCAPSULIN NANOCOMPARTMENT PORE MUTANT SE3', 'family': 'Nanoparticles', 'genus': 'Nanoparticles', 'resolution': '2.84'}, '117': {'entry_id': '7mu1', 'name': 'THERMOTOGA MARITIMA ENCAPSULIN SHELL', 'family': 'Nanoparticles', 'genus': 'Nanoparticles', 'resolution': '3.30'}, '118': {'entry_id': '8f4x', 'name': 'TOP-DOWN DESIGN OF PROTEIN ARCHITECTURES WITH REINFORCEMENT LEARNING', 'family': 'Nanoparticles', 'genus': 'Nanoparticles', 'resolution': '3.01'}, '119': {'entry_id': '8f53', 'name': 'Top-down design of protein architectures with reinforcement learning', 'family': 'Nanoparticles', 'genus': 'Nanoparticles', 'resolution': '2.93'}, '120': {'entry_id': '8f54', 'name': 'TOP-DOWN DESIGN OF PROTEIN ARCHITECTURES WITH REINFORCEMENT LEARNING', 'family': 'Nanoparticles', 'genus': 'Nanoparticles', 'resolution': '2.50'}, '121': {'entry_id': '7o0i', 'name': 'VIBRIO VULNIFICUS STRESSOSOME', 'family': 'Nanoparticles', 'genus': 'Nanoparticles', 'resolution': '8.30'}}, 'Nanoviridae': {'122': {'entry_id': '6s44', 'name': 'Faba bean necrotic stunt virus (FBNSV)', 'family': 'Nanoviridae', 'genus': 'Nanovirus', 'resolution': '3.19'}}, 'Nodaviridae': {'123': {'entry_id': '6ab5', 'name': 'Cryo-EM structure of T=1 Penaeus vannamei nodavirus', 'family': 'Nodaviridae', 'genus': 'Unclassified', 'resolution': '3.70'}, '124': {'entry_id': '4rft', 'name': 'T=1 SUBVIRAL PARTICLE OF GROUPER NERVOUS NECROSIS VIRUS CAPS DELETION MUTANT (DELTA 1-34 and 218-338', 'family': 'Nodaviridae', 'genus': 'Betanodavirus', 'resolution': '3.10'}, '125': {'entry_id': '5yl1', 'name': 'T=1 subviral particle of Penaeus vannamei nodavirus capsid protein deletion mutant (delta 1-37 ; 251-368)', 'family': 'Nodaviridae', 'genus': 'Unclassified', 'resolution': '3.12'}}, 'Papillomaviridae': {'126': {'entry_id': '1dzl', 'name': 'Human Papilloma Virus 16 L1 Capsid', 'family': 'Papillomaviridae', 'genus': 'Alphapapillomavirus', 'resolution': '3.50'}}, 'Parvoviridae': {'127': {'entry_id': '5uf6', 'name': '2.8 ELECTRON MICROSCOPY STRUCTURE OF ADENO-ASSOCIATED VIRUS-DJ BOUND BY HEPARANOID PENTASACCHARIDE', 'family': 'Parvoviridae', 'genus': 'Dependoparvovirus', 'resolution': '2.80'}, '128': {'entry_id': '6jcq', 'name': 'AAV1 in complex with AAVR', 'family': 'Parvoviridae', 'genus': 'Dependoparvovirus', 'resolution': '3.30'}, '129': {'entry_id': '6jcr', 'name': 'AAV1 in neutral condition at 3.07 Ang', 'family': 'Parvoviridae', 'genus': 'Dependoparvovirus', 'resolution': '3.07'}, '130': {'entry_id': '8fq4', 'name': 'AAV1 VP3 Only Capsid', 'family': 'Parvoviridae', 'genus': 'Dependoparvovirus', 'resolution': '2.27'}, '131': {'entry_id': '6jcs', 'name': 'AAV5 in complex with AAVR', 'family': 'Parvoviridae', 'genus': 'Dependoparvovirus', 'resolution': '3.18'}, '132': {'entry_id': '6jct', 'name': 'AAV5 in neutral condition at 3.18 Ang', 'family': 'Parvoviridae', 'genus': 'Dependoparvovirus', 'resolution': '3.18'}, '133': {'entry_id': '6ubm', 'name': 'AAV8 Baculovirus-Sf9 produced, empty capsid', 'family': 'Parvoviridae', 'genus': 'Dependoparvovirus', 'resolution': '3.30'}, '134': {'entry_id': '6u2v', 'name': 'AAV8 Baculovirus-Sf9 produced, full capsid', 'family': 'Parvoviridae', 'genus': 'Dependoparvovirus', 'resolution': '3.60'}, '135': {'entry_id': '6u20', 'name': 'AAV8 human HEK293-produced, empty capsid', 'family': 'Parvoviridae', 'genus': 'Dependoparvovirus', 'resolution': '3.30'}, '136': {'entry_id': '6pwa', 'name': 'AAV8 human HEK293-produced, full capsid', 'family': 'Parvoviridae', 'genus': 'Dependoparvovirus', 'resolution': '3.30'}, '137': {'entry_id': '7rl1', 'name': 'AAVrh.10-7x capsid', 'family': 'Parvoviridae', 'genus': 'Dependoparvovirus', 'resolution': '2.71'}, '138': {'entry_id': '8eu6', 'name': 'Acheta domesticus segmented densovirus high buoyancy fraction 1 (HB1) empty capsid structure', 'family': 'Parvoviridae', 'genus': 'Unclassified', 'resolution': '3.00'}, '139': {'entry_id': '8eu5', 'name': 'Acheta domesticus segmented densovirus high buoyancy fraction 2 empty capsid structure', 'family': 'Parvoviridae', 'genus': 'Unclassified', 'resolution': '3.10'}, '140': {'entry_id': '8eu7', 'name': 'Acheta domesticus segmented densovirus VP-ORF1 virus-like particle', 'family': 'Parvoviridae', 'genus': 'Unclassified', 'resolution': '3.30'}, '141': {'entry_id': '8erk', 'name': 'Acheta domesticus segmented densovirus, high buoyancy (HB) capsid, a mixed population of empty and immature full particles', 'family': 'Parvoviridae', 'genus': 'Densovirus', 'resolution': '2.50'}, '142': {'entry_id': '8er8', 'name': 'ACHETA DOMESTICUS SEGMENTED DENSOVIRUS, MATURE VIRION CAPSID STRUCT', 'family': 'Parvoviridae', 'genus': 'Densovirus', 'resolution': '2.30'}, '143': {'entry_id': '1lp3', 'name': 'Adeno-Associated Virus', 'family': 'Parvoviridae', 'genus': 'Dependoparvovirus', 'resolution': '3.00'}, '144': {'entry_id': '7kfr', 'name': 'ADENO-ASSOCIATED VIRUS (AAV-DJ) - CRYO-EM STRUCTURE AT 1.56 ANGSTROM RESOLUTION', 'family': 'Parvoviridae', 'genus': 'Dependoparvovirus', 'resolution': '1.56'}, '145': {'entry_id': '6ih9', 'name': 'Adeno-Associated Virus 2 at 2.8 ang', 'family': 'Parvoviridae', 'genus': 'Dependoparvovirus', 'resolution': '2.80'}, '146': {'entry_id': '6ihb', 'name': 'Adeno-Associated Virus 2 in complex with AAVR', 'family': 'Parvoviridae', 'genus': 'Dependoparvovirus', 'resolution': '2.84'}, '147': {'entry_id': '7ti4', 'name': 'Adeno-associated Virus Go.1 at 2.9 Angstroms resolution, AAVGo.1 AAV-G', 'family': 'Parvoviridae', 'genus': 'Dependoparvovirus', 'resolution': '2.93'}, '148': {'entry_id': '7ti5', 'name': 'Adeno-associated virus Go.1 in Complex With Its Cellular Receptor AAVR at 2.4 Angstroms Resolution, AAVGo.1 AAVR', 'family': 'Parvoviridae', 'genus': 'Dependoparvovirus', 'resolution': '2.40'}, '149': {'entry_id': '7kp3', 'name': 'Adeno-associated virus serotype 5 at 2.1 Angstroms resolution, AAV5', 'family': 'Parvoviridae', 'genus': 'Dependoparvovirus', 'resolution': '2.10'}, '150': {'entry_id': '7kpn', 'name': 'Adeno-associated virus serotype 5 in complex with the cellular receptor AAVR at 2.5 Angstroms resolution, AAV5 AAVR', 'family': 'Parvoviridae', 'genus': 'Dependoparvovirus', 'resolution': '2.50'}, '151': {'entry_id': '7wjx', 'name': 'Adeno-associated virus serotype 9 in complex with AAVR', 'family': 'Parvoviridae', 'genus': 'Dependoparvovirus', 'resolution': '3.23'}, '152': {'entry_id': '7wqp', 'name': 'Adeno-associated virus serotype PHP.eB in complex with AAVR', 'family': 'Parvoviridae', 'genus': 'Dependoparvovirus', 'resolution': '3.76'}, '153': {'entry_id': '7jot', 'name': 'Adeno-associated virus strain AAV7 capsid icosahedral structure', 'family': 'Parvoviridae', 'genus': 'Dependoparvovirus', 'resolution': '2.70'}, '154': {'entry_id': '6u95', 'name': 'Adeno-associated virus strain AAVhu.37 capsid icosahedral structure', 'family': 'Parvoviridae', 'genus': 'Dependoparvovirus', 'resolution': '2.56'}, '155': {'entry_id': '7rwt', 'name': 'Adeno-associated virus type 2', 'family': 'Parvoviridae', 'genus': 'Dependoparvovirus', 'resolution': '2.43'}, '156': {'entry_id': '6b9q', 'name': 'Atomic Resolution Structure of the Oncolytic Parvov LuIII by Electron Microscopy and 3D Image Recons', 'family': 'Parvoviridae', 'genus': 'Protoparvovirus', 'resolution': '3.17'}, '157': {'entry_id': '6bwx', 'name': 'Atomic Resolution Structures of Human Bufaviruses D by Cryo-Electron Microscopy.', 'family': 'Parvoviridae', 'genus': 'Unclassified', 'resolution': '2.84'}, '158': {'entry_id': '6bx0', 'name': 'Atomic Resolution Structures of Human Bufaviruses D by Cryo-Electron Microscopy.', 'family': 'Parvoviridae', 'genus': 'Unclassified', 'resolution': '3.79'}, '159': {'entry_id': '6bx1', 'name': 'Atomic Resolution Structures of Human Bufaviruses D by Cryo-Electron Microscopy.', 'family': 'Parvoviridae', 'genus': 'Unclassified', 'resolution': '3.25'}, '160': {'entry_id': '6cbe', 'name': 'Atomic structure of a rationally engineered gene de vector, AAV2.5.', 'family': 'Parvoviridae', 'genus': 'Dependoparvovirus', 'resolution': '2.78'}, '161': {'entry_id': '8tex', 'name': 'Avian Adeno-associated virus - empty capsid', 'family': 'Parvoviridae', 'genus': 'Dependoparvovirus', 'resolution': '2.54'}, '162': {'entry_id': '8tey', 'name': 'Avian Adeno-associated virus - empty capsid', 'family': 'Parvoviridae', 'genus': 'Dependoparvovirus', 'resolution': '3.06'}, '163': {'entry_id': '1s58', 'name': 'B19 Parvovirus Capsid', 'family': 'Parvoviridae', 'genus': 'Erythroparvovirus', 'resolution': '3.50'}, '164': {'entry_id': '6wfu', 'name': 'BatAAV-10HB - empty particles', 'family': 'Parvoviridae', 'genus': 'Dependoparvovirus', 'resolution': '3.03'}, '165': {'entry_id': '6wft', 'name': 'BatAAV-10HB - genome-containing particles', 'family': 'Parvoviridae', 'genus': 'Dependoparvovirus', 'resolution': '3.03'}, '166': {'entry_id': '1c8d', 'name': 'Canine Panleukopenia Virus', 'family': 'Parvoviridae', 'genus': 'Protoparvovirus', 'resolution': '3.00'}, '167': {'entry_id': '1p5w', 'name': 'Canine Parvovirus', 'family': 'Parvoviridae', 'genus': 'Protoparvovirus', 'resolution': '3.30'}, '168': {'entry_id': '1p5y', 'name': 'Canine Parvovirus', 'family': 'Parvoviridae', 'genus': 'Protoparvovirus', 'resolution': '3.20'}, '169': {'entry_id': '2cas', 'name': 'Canine Parvovirus', 'family': 'Parvoviridae', 'genus': 'Protoparvovirus', 'resolution': '3.00'}, '170': {'entry_id': '7m3n', 'name': 'Canine parvovirus and Fab14 asymmetric reconstruction', 'family': 'Parvoviridae', 'genus': 'Protoparvovirus', 'resolution': '2.40'}, '171': {'entry_id': '7m3m', 'name': 'Canine parvovirus and Fab14 at partial occupancy', 'family': 'Parvoviridae', 'genus': 'Protoparvovirus', 'resolution': '2.26'}, '172': {'entry_id': '7m3l', 'name': 'Canine parvovirus and Fab14 at partial occupancy', 'family': 'Parvoviridae', 'genus': 'Protoparvovirus', 'resolution': '3.20'}, '173': {'entry_id': '7m3o', 'name': 'Canine parvovirus asymmetric map', 'family': 'Parvoviridae', 'genus': 'Protoparvovirus', 'resolution': '2.40'}, '174': {'entry_id': '3jcx', 'name': 'Canine Parvovirus complexed with Fab E', 'family': 'Parvoviridae', 'genus': 'Protoparvovirus', 'resolution': '2.90'}, '175': {'entry_id': '4dpv', 'name': 'Canine Parvovirus Strain D', 'family': 'Parvoviridae', 'genus': 'Protoparvovirus', 'resolution': '2.90'}, '176': {'entry_id': '1c8h', 'name': 'Canine Parvovirus Strain D (pH 5.5)', 'family': 'Parvoviridae', 'genus': 'Protoparvovirus', 'resolution': '3.50'}, '177': {'entry_id': '1ijs', 'name': 'Canine Parvovirus Strain D, Mutant A300D', 'family': 'Parvoviridae', 'genus': 'Protoparvovirus', 'resolution': '3.25'}, '178': {'entry_id': '6o9r', 'name': 'Comparative Analysis of the Capsid Structures of AA AAVrh.39, and AAV8.', 'family': 'Parvoviridae', 'genus': 'Dependoparvovirus', 'resolution': '2.75'}, '179': {'entry_id': '6v10', 'name': 'Comparative Analysis of the Capsid Structures of AA AAVrh.39, and AAV8.', 'family': 'Parvoviridae', 'genus': 'Dependoparvovirus', 'resolution': '3.77'}, '180': {'entry_id': '6v12', 'name': 'Comparative Analysis of the Capsid Structures of AA AAVrh.39, and AAV8.', 'family': 'Parvoviridae', 'genus': 'Dependoparvovirus', 'resolution': '3.08'}, '181': {'entry_id': '6v1g', 'name': 'Comparative Analysis of the Capsid Structures of AA AAVrh.39, and AAV8.', 'family': 'Parvoviridae', 'genus': 'Dependoparvovirus', 'resolution': '2.98'}, '182': {'entry_id': '6v1t', 'name': 'Comparative Analysis of the Capsid Structures of AA AAVrh.39, and AAV8.', 'family': 'Parvoviridae', 'genus': 'Dependoparvovirus', 'resolution': '3.39'}, '183': {'entry_id': '6v1z', 'name': 'Comparative Analysis of the Capsid Structures of AA AAVrh.39, and AAV8.', 'family': 'Parvoviridae', 'genus': 'Dependoparvovirus', 'resolution': '3.58'}, '184': {'entry_id': '7thr', 'name': 'Cryo-electron microscopy of Adeno-associated virus serotype 4 at 2.2 A', 'family': 'Parvoviridae', 'genus': 'Dependoparvovirus', 'resolution': '2.21'}, '185': {'entry_id': '7na6', 'name': 'Cryo-EM structure of AAV True Type', 'family': 'Parvoviridae', 'genus': 'Dependoparvovirus', 'resolution': '3.35'}, '186': {'entry_id': '6nz0', 'name': 'CRYO-EM STRUCTURE OF AAV-2 IN COMPLEX WITH AAVR PKD DOMAINS', 'family': 'Parvoviridae', 'genus': 'Dependoparvovirus', 'resolution': '2.40'}, '187': {'entry_id': '7ud4', 'name': 'Cryo-EM structure of AAV-PHP.eB', 'family': 'Parvoviridae', 'genus': 'Dependoparvovirus', 'resolution': '2.24'}, '188': {'entry_id': '8fzn', 'name': 'Cryo-EM Structure of AAV2-R404A Variant', 'family': 'Parvoviridae', 'genus': 'Dependoparovirus', 'resolution': '3.62'}, '189': {'entry_id': '7rk9', 'name': 'Cryo-EM Structure of Adeno-Associated Virus Serotype 1 with i gineered Peptide Domain PHP.B (AAV1-PHP.B)', 'family': 'Parvoviridae', 'genus': 'Dependoparvovirus', 'resolution': '2.32'}, '190': {'entry_id': '7rk8', 'name': 'Cryo-EM Structure of Adeno-Associated Virus Serotype 9 with Engineered', 'family': 'Parvoviridae', 'genus': 'Dependoparvovirus', 'resolution': '2.27'}, '191': {'entry_id': '8fz0', 'name': 'Cryo-EM Structure of empty AAV2 capsid', 'family': 'Parvoviridae', 'genus': 'Dependoparvovirus', 'resolution': '2.94'}, '192': {'entry_id': '8fyw', 'name': 'Cryo-EM Structure of genome containing AAV2', 'family': 'Parvoviridae', 'genus': 'Dependoparvovirus', 'resolution': '2.84'}, '193': {'entry_id': '6u0r', 'name': 'Cryo-EM structure of the chimeric vector AAV2.7m8', 'family': 'Parvoviridae', 'genus': 'Dependoparvovirus', 'resolution': '2.91'}, '194': {'entry_id': '6u0v', 'name': 'Cryo-EM structure of the chimeric vector AAV2.7m8', 'family': 'Parvoviridae', 'genus': 'Dependoparvovirus', 'resolution': '3.02'}, '195': {'entry_id': '4qyk', 'name': 'CRYSTAL STRUCTURE OF A CANINE PARVOVIRUS VARIANT', 'family': 'Parvoviridae', 'genus': 'Protoparvovirus', 'resolution': '3.50'}, '196': {'entry_id': '4mgu', 'name': 'CRYSTAL STRUCTURE OF ACHETA DOMESTICUS DENSOVIRUS', 'family': 'Parvoviridae', 'genus': 'Scindoambidensovirus', 'resolution': '3.50'}, '197': {'entry_id': '3kic', 'name': 'CRYSTAL STRUCTURE OF ADENO-ASSOCIATED VIRUS SEROTYPE 3B', 'family': 'Parvoviridae', 'genus': 'Dependoparvovirus', 'resolution': '2.60'}, '198': {'entry_id': '3kie', 'name': 'CRYSTAL STRUCTURE OF ADENO-ASSOCIATED VIRUS SEROTYPE 3B', 'family': 'Parvoviridae', 'genus': 'Dependoparvovirus', 'resolution': '3.00'}, '199': {'entry_id': '3p0s', 'name': 'Crystal structure of Bombyx mori densovirus 1 capsid', 'family': 'Parvoviridae', 'genus': 'Iteradensovirus', 'resolution': '3.10'}, '200': {'entry_id': '3n7x', 'name': 'Crystal structure of Penaeus stylirostris densovirus capsid', 'family': 'Parvoviridae', 'genus': 'Penstylhamaparvovirus', 'resolution': '2.50'}, '201': {'entry_id': '3j4p', 'name': 'ELECTRON MICROSCOPY ANALYSIS OF A DISACCHARIDE ANALOG COMPLE RECEPTOR INTERACTIONS OF ADENO-ASSOCIAT', 'family': 'Parvoviridae', 'genus': 'Dependoparvovirus', 'resolution': '4.80'}, '202': {'entry_id': '7rwl', 'name': 'Envelope-associated Adeno-associated virus serotype 2', 'family': 'Parvoviridae', 'genus': 'Dependoparvovirus', 'resolution': '3.14'}, '203': {'entry_id': '7z5d', 'name': 'Equilibrium Dynamics of a Biomolecular Complex Analyzed at Single-amino Acid Resolution by Cryo-electron Microscopy', 'family': 'Parvoviridae', 'genus': 'Protoparvovirus', 'resolution': '3.42'}, '204': {'entry_id': '1c8e', 'name': 'Feline Panleukopenia Virus', 'family': 'Parvoviridae', 'genus': 'Protoparvovirus', 'resolution': '3.00'}, '205': {'entry_id': '1c8f', 'name': 'Feline Panleukopenia Virus', 'family': 'Parvoviridae', 'genus': 'Protoparvovirus', 'resolution': '3.00'}, '206': {'entry_id': '1c8g', 'name': 'Feline Panleukopenia Virus', 'family': 'Parvoviridae', 'genus': 'Protoparvovirus', 'resolution': '3.00'}, '207': {'entry_id': '1fpv', 'name': 'Feline Panleukopenia Virus', 'family': 'Parvoviridae', 'genus': 'Protoparvovirus', 'resolution': '3.30'}, '208': {'entry_id': '8a9u', 'name': 'Full AAV3B-VP1KO virion', 'family': 'Parvoviridae', 'genus': 'Dependoparvovirus', 'resolution': '3.10'}, '209': {'entry_id': '7lnk', 'name': 'Gorilla Bocavirus 1 Capsid', 'family': 'Parvoviridae', 'genus': 'Bocaparvovirus', 'resolution': '2.76'}, '210': {'entry_id': '7ltm', 'name': 'Hum8 capsid', 'family': 'Parvoviridae', 'genus': 'Dependoparvovirus', 'resolution': '2.49'}, '211': {'entry_id': '7l0y', 'name': 'Human Bocavirus 1 (pH 2.6)', 'family': 'Parvoviridae', 'genus': 'Bocaparvovirus', 'resolution': '2.54'}, '212': {'entry_id': '7l0w', 'name': 'Human Bocavirus 1 (pH 5.5)', 'family': 'Parvoviridae', 'genus': 'Bocaparvovirus', 'resolution': '2.74'}, '213': {'entry_id': '7l0x', 'name': 'Human Bocavirus 2 (pH 2.6)', 'family': 'Parvoviridae', 'genus': 'Bocaparvovirus', 'resolution': '2.51'}, '214': {'entry_id': '7l0u', 'name': 'Human Bocavirus 2 (pH 5.5)', 'family': 'Parvoviridae', 'genus': 'Bocaparvovirus', 'resolution': '2.74'}, '215': {'entry_id': '7l0v', 'name': 'Human Bocavirus 2 (pH 7.4)', 'family': 'Parvoviridae', 'genus': 'Bocaparvovirus', 'resolution': '2.71'}, '216': {'entry_id': '5us7', 'name': 'HUMAN BOCAVIRUS 3', 'family': 'Parvoviridae', 'genus': 'Bocaparvovirus', 'resolution': '2.80'}, '217': {'entry_id': '5us9', 'name': 'HUMAN BOCAVIRUS 4', 'family': 'Parvoviridae', 'genus': 'Bocaparvovirus', 'resolution': '3.00'}, '218': {'entry_id': '1mvm', 'name': 'Mice Minute Virus (MVM), Strain I', 'family': 'Parvoviridae', 'genus': 'Protoparvovirus', 'resolution': '3.50'}, '219': {'entry_id': '6wh3', 'name': 'Molecular biology and structure of a novel penaeid densovirus elucidate convergent parvoviral host cap evolution', 'family': 'Parvoviridae', 'genus': 'Densovirus', 'resolution': '2.96'}, '220': {'entry_id': '6wh7', 'name': 'Molecular biology and structure of a novel penaeid densovirus elucidate convergent parvoviral host cap evolution', 'family': 'Parvoviridae', 'genus': 'Densovirus', 'resolution': '3.78'}, '221': {'entry_id': '1dnv', 'name': 'PARVOVIRUS (DENSOVIRUS) FROM GALLERIA MELLONELLA', 'family': 'Parvoviridae', 'genus': 'Protoambidensovirus', 'resolution': '3.60'}, '222': {'entry_id': '1k3v', 'name': 'Porcine Parvovirus', 'family': 'Parvoviridae', 'genus': 'Protoparvovirus', 'resolution': '3.50'}, '223': {'entry_id': '6nxe', 'name': 'Protease-Activatable Adeno-Associated Virus Vector Delivery to Damaged Heart Tissue.', 'family': 'Parvoviridae', 'genus': 'Dependoparvovirus', 'resolution': '3.16'}, '224': {'entry_id': '7u97', 'name': 'SAAV pH 4.0 capsid structure', 'family': 'Parvoviridae', 'genus': 'Dependoparvovirus', 'resolution': '2.66'}, '225': {'entry_id': '7u96', 'name': 'SAAV pH 5.5 capsid structure', 'family': 'Parvoviridae', 'genus': 'Dependoparvovirus', 'resolution': '2.14'}, '226': {'entry_id': '7u95', 'name': 'SAAV pH 6.0 capsid structure', 'family': 'Parvoviridae', 'genus': 'Dependoparvovirus', 'resolution': '2.73'}, '227': {'entry_id': '7u94', 'name': 'SAAV pH 7.4 capsid structure', 'family': 'Parvoviridae', 'genus': 'Dependoparvovirus', 'resolution': '3.25'}, '228': {'entry_id': '6u3q', 'name': 'Structural and biophysical profiling of a human adeno-associated virus capsid isolate with neurotro properties', 'family': 'Parvoviridae', 'genus': 'Dependoparvovirus', 'resolution': '2.46'}, '229': {'entry_id': '4qc8', 'name': 'Structural annotation of pathogenic bovine Parvovirus-1', 'family': 'Parvoviridae', 'genus': 'Bocaparvovirus', 'resolution': '3.20'}, '230': {'entry_id': '8xeg', 'name': 'Structural basis of the recognition of adeno-associated virus by the neurological system-related receptor carbonic anhydrase IV', 'family': 'Parvoviridae', 'genus': 'Dependoparvovirus', 'resolution': '1.76'}, '231': {'entry_id': '3ux1', 'name': 'STRUCTURAL CHARACTERIZATION OF ADENO-ASSOCIATED VIRUS SEROTY', 'family': 'Parvoviridae', 'genus': 'Dependoparvovirus', 'resolution': '2.80'}, '232': {'entry_id': '6x2i', 'name': 'Structural Characterization of Cuta- and Tusavirus: into Protoparvoviruses Capsid Morphology.', 'family': 'Parvoviridae', 'genus': 'Protoparvovirus', 'resolution': '2.87'}, '233': {'entry_id': '6x2k', 'name': 'Structural Characterization of Cuta- and Tusavirus: into Protoparvoviruses Capsid Morphology.', 'family': 'Parvoviridae', 'genus': 'Protoparvovirus', 'resolution': '2.88'}, '234': {'entry_id': '4g0r', 'name': 'STRUCTURAL CHARACTERIZATION OF H-1 PARVOVIRUS: COMPARISON OF INFECTIOUS VIRIONS TO REPLICATION DEFEC', 'family': 'Parvoviridae', 'genus': 'Protoparvovirus', 'resolution': '2.70'}, '235': {'entry_id': '4gbt', 'name': 'STRUCTURAL CHARACTERIZATION OF H-1 PARVOVIRUS: COMPARISON OF INFECTIOUS VIRIONS TO REPLICATION DEFEC', 'family': 'Parvoviridae', 'genus': 'Protoparvovirus', 'resolution': '3.20'}, '236': {'entry_id': '3oah', 'name': 'Structural Characterization of the Dual Glycan Binding Adeno-Associated Virus Serotype 6', 'family': 'Parvoviridae', 'genus': 'Dependoparvovirus', 'resolution': '3.00'}, '237': {'entry_id': '1z14', 'name': 'Structural Determinants of Tissue Tropism and In Vivo Pathogenicity for the Parvovirus Minute Virus ', 'family': 'Parvoviridae', 'genus': 'Protoparvovirus', 'resolution': '3.25'}, '238': {'entry_id': '1z1c', 'name': 'STRUCTURAL DETERMINANTS OF TISSUE TROPISM AND IN VIVO PATHOGENICITY FOR THE PARVOVIRUS MINUTE VIRUS ', 'family': 'Parvoviridae', 'genus': 'Protoparvovirus', 'resolution': '3.50'}, '239': {'entry_id': '3ntt', 'name': 'STRUCTURAL INSIGHTS OF ADENO-ASSOCIATED VIRUS 5. A GENE THER FOR CYSTIC FIBROSIS', 'family': 'Parvoviridae', 'genus': 'Dependoparvovirus', 'resolution': '3.45'}, '240': {'entry_id': '3ra2', 'name': 'STRUCTURAL STUDIES OF AAV8 CAPSID TRANSITIONS ASSOCIATED WIT ENDOSOMAL TRAFFICKING', 'family': 'Parvoviridae', 'genus': 'Dependoparvovirus', 'resolution': '2.70'}, '241': {'entry_id': '3ra4', 'name': 'STRUCTURAL STUDIES OF AAV8 CAPSID TRANSITIONS ASSOCIATED WIT ENDOSOMAL TRAFFICKING', 'family': 'Parvoviridae', 'genus': 'Dependoparvovirus', 'resolution': '2.70'}, '242': {'entry_id': '3ra8', 'name': 'STRUCTURAL STUDIES OF AAV8 CAPSID TRANSITIONS ASSOCIATED WIT ENDOSOMAL TRAFFICKING', 'family': 'Parvoviridae', 'genus': 'Dependoparvovirus', 'resolution': '2.70'}, '243': {'entry_id': '3ra9', 'name': 'STRUCTURAL STUDIES OF AAV8 CAPSID TRANSITIONS ASSOCIATED WIT ENDOSOMAL TRAFFICKING', 'family': 'Parvoviridae', 'genus': 'Dependoparvovirus', 'resolution': '2.70'}, '244': {'entry_id': '3raa', 'name': 'Structural studies of AAV8 capsid transitions associated with endosomal trafficking', 'family': 'Parvoviridae', 'genus': 'Dependoparvovirus', 'resolution': '3.20'}, '245': {'entry_id': '2g8g', 'name': 'STRUCTURALLY MAPPING THE DIVERSE PHENOTYPE OF ADENO-ASSOCIATED VIRUS SEROTYPE 4', 'family': 'Parvoviridae', 'genus': 'Dependoparvovirus', 'resolution': '3.20'}, '246': {'entry_id': '3j1q', 'name': 'Structure of AAV-DJ, a Retargeted Gene Therapy Vector: Cryo-Electron Microscopy at 4.5A resolution', 'family': 'Parvoviridae', 'genus': 'Dependoparvovirus', 'resolution': '4.50'}, '247': {'entry_id': '2qa0', 'name': 'Structure of Adeno-Associated virus serotype 8', 'family': 'Parvoviridae', 'genus': 'Dependoparvovirus', 'resolution': '2.60'}, '248': {'entry_id': '7wjw', 'name': 'Structure of Adeno-associated virus serotype 9', 'family': 'Parvoviridae', 'genus': 'Dependoparvovirus', 'resolution': '3.87'}, '249': {'entry_id': '7wqo', 'name': 'Structure of Adeno-associated virus serotype PHP.eB', 'family': 'Parvoviridae', 'genus': 'Dependoparvovirus', 'resolution': '2.85'}, '250': {'entry_id': '5ipi', 'name': 'STRUCTURE OF ADENO-ASSOCIATED VIRUS TYPE 2 VLP', 'family': 'Parvoviridae', 'genus': 'Dependoparvovirus', 'resolution': '3.80'}, '251': {'entry_id': '3j1s', 'name': 'Structure of adeno-associated virus-2 in complex with neutralizing monoclonal antibody A20', 'family': 'Parvoviridae', 'genus': 'Dependoparvovirus', 'resolution': '8.50'}, '252': {'entry_id': '6oas', 'name': 'Structure of canine parvovirus in complex with transferrin receptor type-1', 'family': 'Parvoviridae', 'genus': 'Protoparvovirus', 'resolution': '3.00'}, '253': {'entry_id': '6nf9', 'name': 'Structure of M. spretus Endogenous Virus Element (EVE) Virus-like particle (VLP)', 'family': 'Parvoviridae', 'genus': 'Virus Like Particle', 'resolution': '3.89'}, '254': {'entry_id': '4zpy', 'name': 'Structure of N170A MVM mutant empty capsid', 'family': 'Parvoviridae', 'genus': 'Protoparvovirus', 'resolution': '3.80'}, '255': {'entry_id': '6mf7', 'name': 'STRUCTURE OF PARVOVIRUS B19 DECORATED WITH FAB MOLECULES FRO ANTIBODY', 'family': 'Parvoviridae', 'genus': 'Parvovirus', 'resolution': '3.20'}, '256': {'entry_id': '6nn3', 'name': 'Structure of parvovirus B19 decorated with Fab molecules from a human antibody', 'family': 'Parvoviridae', 'genus': 'Erythroparvovirus', 'resolution': '3.22'}, '257': {'entry_id': '7mtw', 'name': 'Structure of the adeno-associated virus 9 capsid at pH 4.0', 'family': 'Parvoviridae', 'genus': 'Dependoparvovirus', 'resolution': '2.99'}, '258': {'entry_id': '7mtg', 'name': 'Structure of the adeno-associated virus 9 capsid at pH 6.0', 'family': 'Parvoviridae', 'genus': 'Dependoparvovirus', 'resolution': '2.67'}, '259': {'entry_id': '7mt0', 'name': 'Structure of the adeno-associated virus 9 capsid at pH 7.4', 'family': 'Parvoviridae', 'genus': 'Dependoparvovirus', 'resolution': '2.82'}, '260': {'entry_id': '7mua', 'name': 'Structure of the adeno-associated virus 9 capsid at pH pH 5.5 in complex with terminal galactose', 'family': 'Parvoviridae', 'genus': 'Dependoparvovirus', 'resolution': '2.68'}, '261': {'entry_id': '7mtz', 'name': 'Structure of the adeno-associated virus 9 capsid at pH pH 7.4 in complex with terminal galactose', 'family': 'Parvoviridae', 'genus': 'Dependoparvovirus', 'resolution': '2.43'}, '262': {'entry_id': '5egc', 'name': 'STRUCTURE OF THE ADENO-ASSOCIATED VIRUS SEROTYPE 1 SIALIC ACID COMPLEX', 'family': 'Parvoviridae', 'genus': 'Dependoparvovirus', 'resolution': '3.01'}, '263': {'entry_id': '5ipk', 'name': 'STRUCTURE OF THE R432A VARIANT OF ADENO-ASSOCIATED VIRUS TYPE 2 VLP', 'family': 'Parvoviridae', 'genus': 'Dependoparvovirus', 'resolution': '3.70'}, '264': {'entry_id': '3ng9', 'name': 'STRUCTURE TO FUNCTION CORRELATIONS FOR ADENO-ASSOCIATED VIRU 1', 'family': 'Parvoviridae', 'genus': 'Dependoparvovirus', 'resolution': '2.50'}, '265': {'entry_id': '4v86', 'name': 'STRUCTURE-FUNCTION ANALYSIS OF RECEPTOR-BINDING IN ADENO-ASSOCIATED VIRUS SEROTYPE 6 (AAV-6)', 'family': 'Parvoviridae', 'genus': 'Dependoparvovirus', 'resolution': '3.00'}, '266': {'entry_id': '3shm', 'name': 'STRUCTURE-FUNCTION ANALYSIS OF RECEPTOR-BINDING IN ADENO-ASSOCIATED VIRUS SEROTYPE 6 (AAV-6)', 'family': 'Parvoviridae', 'genus': 'Dependoparvovirus', 'resolution': '3.02'}, '267': {'entry_id': '6e9d', 'name': 'Sub-2 Angstrom Ewald Curvature Corrected Single-Par Cryo-EM', 'family': 'Parvoviridae', 'genus': 'Dependoparvovirus', 'resolution': '1.86'}, '268': {'entry_id': '7s1w', 'name': 'The AAVrh.10-glycan complex', 'family': 'Parvoviridae', 'genus': 'Dependoparvovirus', 'resolution': '3.09'}, '269': {'entry_id': '8tu0', 'name': 'The Capsid of Canine Minute Virus', 'family': 'Parvoviridae', 'genus': 'Bocaparvovirus', 'resolution': '2.72'}, '270': {'entry_id': '8tu1', 'name': 'The Capsid of Porcine Bocavirus 1', 'family': 'Parvoviridae', 'genus': 'Bocaparvovirus', 'resolution': '2.31'}, '271': {'entry_id': '8tu2', 'name': 'The Capsid of Rat Bocavirus', 'family': 'Parvoviridae', 'genus': 'Bocaparvovirus', 'resolution': '2.52'}, '272': {'entry_id': '8ep2', 'name': 'The capsid structure of Aleutian Mink Disease Virus', 'family': 'Parvoviridae', 'genus': 'Amdoparvovirus', 'resolution': '2.37'}, '273': {'entry_id': '8ep9', 'name': 'The capsid structure of Human Parvovirus 4', 'family': 'Parvoviridae', 'genus': 'Tetraparvovirus', 'resolution': '3.12'}, '274': {'entry_id': '7l6f', 'name': 'The empty AAV11 capsid', 'family': 'Parvoviridae', 'genus': 'Dependoparvovirus', 'resolution': '2.86'}, '275': {'entry_id': '7l6b', 'name': 'The empty AAV12 capsid', 'family': 'Parvoviridae', 'genus': 'Dependoparvovirus', 'resolution': '2.54'}, '276': {'entry_id': '7l6i', 'name': 'The empty AAV13 capsid', 'family': 'Parvoviridae', 'genus': 'Dependoparvovirus', 'resolution': '2.76'}, '277': {'entry_id': '7l5q', 'name': 'The empty AAV7 capsid', 'family': 'Parvoviridae', 'genus': 'Dependoparvovirus', 'resolution': '2.96'}, '278': {'entry_id': '7l5u', 'name': 'The full AAV7 capsid', 'family': 'Parvoviridae', 'genus': 'Dependoparvovirus', 'resolution': '3.16'}, '279': {'entry_id': '7l6e', 'name': 'The genome-containing AAV11 capsid', 'family': 'Parvoviridae', 'genus': 'Dependoparvovirus', 'resolution': '3.15'}, '280': {'entry_id': '7l6a', 'name': 'The genome-containing AAV12 capsid', 'family': 'Parvoviridae', 'genus': 'Dependoparvovirus', 'resolution': '2.67'}, '281': {'entry_id': '7l6h', 'name': 'The genome-containing AAV13 capsid', 'family': 'Parvoviridae', 'genus': 'Dependoparvovirus', 'resolution': '3.00'}, '282': {'entry_id': '4iov', 'name': 'THE STRUCTURE OF AAVRH32.33, A NOVEL GENE DELIVERY VECTOR', 'family': 'Parvoviridae', 'genus': 'Dependoparvovirus', 'resolution': '3.50'}, '283': {'entry_id': '5urf', 'name': 'THE STRUCTURE OF HUMAN BOCAVIRUS 1', 'family': 'Parvoviridae', 'genus': 'Bocaparvovirus', 'resolution': '2.90'}, '284': {'entry_id': '4rso', 'name': 'THE STRUCTURE OF THE NEUROTROPIC AAVRH.8 VIRAL VECTOR', 'family': 'Parvoviridae', 'genus': 'Dependoparvovirus', 'resolution': '3.50'}, '285': {'entry_id': '7mtp', 'name': 'tructure of the adeno-associated virus 9 capsid at pH 5.5', 'family': 'Parvoviridae', 'genus': 'Dependoparvovirus', 'resolution': '2.79'}, '286': {'entry_id': '2xgk', 'name': 'VIRUS LIKE PARTICLE OF L172W MUTANT OF MINUTE VIRUS OF MICE - THE IMMUNOSUPPRESSIVE STRAIN', 'family': 'Parvoviridae', 'genus': 'Protoparvovirus', 'resolution': '4.20'}, '287': {'entry_id': '7z5e', 'name': 'VP2-only capsid of MVM D263A mutant', 'family': 'Parvoviridae', 'genus': 'Protoparvovirus', 'resolution': '3.32'}, '288': {'entry_id': '7z5f', 'name': 'VP2-only capsid of MVM D263A mutant', 'family': 'Parvoviridae', 'genus': 'Protoparvovirus', 'resolution': '3.22'}, '289': {'entry_id': '8t9x', 'name': 'ZOPHOBAS MORIO BLACK WASTING VIRUS STRAIN NJ2-MOLITOR VIRION STRUCT', 'family': 'Parvoviridae', 'genus': 'Unclassified densovirus', 'resolution': '2.00'}, '290': {'entry_id': '8ta7', 'name': 'Zophobas morio black wasting virus strain OR-molitor empty capsid structure', 'family': 'Parvoviridae', 'genus': 'Unclassified densovirus', 'resolution': '2.70'}, '291': {'entry_id': '8tje', 'name': 'Zophobas morio black wasting virus strain OR-molitor virion structure', 'family': 'Parvoviridae', 'genus': 'Unclassified Densovirus', 'resolution': '3.40'}, '292': {'entry_id': '8t9e', 'name': 'Zophobas morio black wasting virus strain UT-morio empty capsid structure', 'family': 'Parvoviridae', 'genus': 'Unclassified Densovirus', 'resolution': '2.90'}, '293': {'entry_id': '8t9c', 'name': 'Zophobas morio black wasting virus strain UT-morio virion structure', 'family': 'Parvoviridae', 'genus': 'Unclassified Densovirus', 'resolution': '2.70'}}, 'Retroviridae': {'294': {'entry_id': '2x8q', 'name': 'CRYO-EM 3D MODEL OF THE ICOSAHEDRAL PARTICLE COMPOSED OF ROUS SARCOMA VIRUS CAPSID PROTEIN PENTAMERS', 'family': 'Retroviridae', 'genus': 'Alpharetrovirus', 'resolution': '18.30'}, '295': {'entry_id': '6ssj', 'name': 'Human endogenous retrovirus (HML2) mature capsid assembly, T=1 icosahedron', 'family': 'Retroviridae', 'genus': 'Unclassified', 'resolution': '2.75'}, '296': {'entry_id': '7no0', 'name': 'STRUCTURE OF THE MATURE RSV CA LATTICE: T=1 CA ICOSAHEDRON', 'family': 'Retroviridae', 'genus': 'Alpharetrovirus', 'resolution': '3.10'}, '297': {'entry_id': '8eep', 'name': 'T=1 PARTICLE HIV-1 CA G60A/G61P', 'family': 'Retroviridae', 'genus': 'Lentivirus', 'resolution': '2.20'}, '298': {'entry_id': '7urt', 'name': 'T=1 PARTICLE HIV-1 CA G60A/G61P/M66A', 'family': 'Retroviridae', 'genus': 'Lentivirus', 'resolution': '2.39'}, '299': {'entry_id': '8eet', 'name': 'T=1 PARTICLE HIV-1 CA M66A', 'family': 'Retroviridae', 'genus': 'Lentivirus', 'resolution': '3.10'}}, 'Sarthroviridae': {'300': {'entry_id': '6jja', 'name': 'CRYO-EM STRUCTURE OF GIANT FRESHWATER PRAWN MACROBRACHIUM RO EXTRA SMALL VIRUS (XSV) VLP', 'family': 'Sarthroviridae', 'genus': 'Macronovirus', 'resolution': '2.91'}}, 'Solemoviridae': {'301': {'entry_id': '1vb4', 'name': 'Sesbania Mosaic Virus Deletion Mutant Cp-N(&delta;)36', 'family': 'Solemoviridae', 'genus': 'Sobemovirus', 'resolution': '3.30'}, '302': {'entry_id': '1vak', 'name': 'Sesbania Mosaic Virus Deletion Mutant Cp-N(&delta;)65', 'family': 'Solemoviridae', 'genus': 'Sobemovirus', 'resolution': '3.05'}, '303': {'entry_id': '1vb2', 'name': 'Sesbania Mosaic Virus Deletion Mutant Cp-N(&delta;)65-D146N-D149N', 'family': 'Solemoviridae', 'genus': 'Sobemovirus', 'resolution': '3.40'}, '304': {'entry_id': '1x36', 'name': 'T=1 CAPSID OF AN AMINO-TERMINAL DELETION MUTANT OF SEMV CP', 'family': 'Solemoviridae', 'genus': 'Sobemovirus', 'resolution': '2.70'}, '305': {'entry_id': '4y4y', 'name': 'T=1 CAPSID STRUCTURE OF SEMV NDEL65CP FUSED WITH B-DOMAIN OF S. AUREUS PROTEIN SPA AT THE N-TERMINUS', 'family': 'Solemoviridae', 'genus': 'Sobemovirus', 'resolution': '3.00'}, '306': {'entry_id': '4y5z', 'name': 'T=1 CAPSID STRUCTURE OF SEMV NDEL65CP FUSED WITH B-DOMAIN OF S. AUREUS PROTEIN SPA AT THE N-TERMINUS', 'family': 'Solemoviridae', 'genus': 'Sobemovirus', 'resolution': '2.95'}}, 'Spinareoviridae': {'307': {'entry_id': '1ej6', 'name': 'Reovirus Core', 'family': 'Spinareoviridae', 'genus': 'Orthoreovirus', 'resolution': '3.60'}, '308': {'entry_id': '1ej6', 'name': 'Reovirus Core', 'family': 'Spinareoviridae', 'genus': 'Orthoreovirus', 'resolution': '3.60'}}, 'Synechococcaceae': {'309': {'entry_id': '6x8t', 'name': 'CryoEM structure of the apo-SrpI encapasulin complex from Synechococcus elongatus PCC 7942', 'family': 'Synechococcaceae', 'genus': 'Synechococcus', 'resolution': '2.90'}, '310': {'entry_id': '6x8m', 'name': 'CryoEM structure of the holo-SrpI encapsulin complex from Synechococcus elongatus PCC 7942', 'family': 'Synechococcaceae', 'genus': 'Synechococcus', 'resolution': '2.20'}}, 'Unclassified': {'311': {'entry_id': '4v4m', 'name': '1.45 ANGSTROM STRUCTURE OF STNV COAT PROTEIN', 'family': 'Unclassified', 'genus': 'Albetovirus', 'resolution': '1.45'}, '312': {'entry_id': '6s2c', 'name': 'Acquired functional capsid structures in metazoan totivirus-like dsRNA virus.', 'family': 'Unclassified', 'genus': 'Unclassified', 'resolution': '3.20'}, '313': {'entry_id': '5bkl', 'name': 'Crystallographic structure of the cubic crystal form of STMV (77.9 degree rotation) grown from NaCl', 'family': 'Unclassified', 'genus': 'Virtovirus', 'resolution': '2.94'}, '314': {'entry_id': '5cw0', 'name': 'Investigation of RNA structure in satellite panicum mosaic virus', 'family': 'Unclassified', 'genus': 'Papanivirus', 'resolution': '4.60'}, '315': {'entry_id': '5cvz', 'name': 'Investigation of RNA structure in satellite panicum mosaic virus - glutaraldehyde treated', 'family': 'Unclassified', 'genus': 'Papanivirus', 'resolution': '3.30'}, '316': {'entry_id': '1stm', 'name': 'Satellite Panicum Mosaic Virus', 'family': 'Unclassified', 'genus': 'Papanivirus', 'resolution': '1.90'}, '317': {'entry_id': '4nia', 'name': 'SATELLITE TOBACCO MOSAIC VIRUS REFINED AT ROOM TEMPERATURE TO 1.8A RESOLUTION USING NCS RESTRAINTS', 'family': 'Unclassified', 'genus': 'Virtovirus', 'resolution': '1.82'}, '318': {'entry_id': '4oq8', 'name': 'SATELLITE TOBACCO MOSAIC VIRUS REFINED TO 1.4 A RESOLUTION USING ICOSAHEDRAL CONSTRAINTS', 'family': 'Unclassified', 'genus': 'Virtovirus', 'resolution': '1.45'}, '319': {'entry_id': '4oq9', 'name': 'SATELLITE TOBACCO MOSAIC VIRUS REFINED TO 1.4 A RESOLUTION USING NON-CRYSTALLOGRAPHIC SYMMETRY RESTRAINTS', 'family': 'Unclassified', 'genus': 'Virtovirus', 'resolution': '1.45'}, '320': {'entry_id': '1a34', 'name': 'SATELLITE TOBACCO MOSAIC VIRUS/RNA COMPLEX', 'family': 'Unclassified', 'genus': 'Virtovirus', 'resolution': '1.81'}, '321': {'entry_id': '2buk', 'name': 'Satellite Tobacco Necrosis Virus', 'family': 'Unclassified', 'genus': 'Albetovirus', 'resolution': '2.45'}, '322': {'entry_id': '4bcu', 'name': 'SATELLITE TOBACCO NECROSIS VIRUS (STNV) VIRUS LIKE PARTICLE IN COMPLEX WITH THE B3 APTAMER', 'family': 'Unclassified', 'genus': 'Albetovirus', 'resolution': '2.29'}, '323': {'entry_id': '7d0k', 'name': 'The icosahedral capsid of Omono River virus (strain:LZ)', 'family': 'Unclassified', 'genus': 'Unclassified', 'resolution': '2.79'}, '324': {'entry_id': '7d0l', 'name': 'The major capsid of Omono River virus (strain:LZ), protrusion-free status.', 'family': 'Unclassified', 'genus': 'Unclassified', 'resolution': '2.95'}}}\n",
      "Number of Families: 23\n",
      "Number of Entries: 325\n"
     ]
    }
   ],
   "source": [
    "response = requests.get(f\"{BASE_URL}/services/tnumber_index.php?serviceName=familiesAndtnumbers&tnumber={T_NUMBER}\", verify=CERTIFICATE)\n",
    "if response.status_code == 200:\n",
    "    entries = response.json()\n",
    "    print(\"Entries:\", entries)\n",
    "    print(\"Number of Families:\", len(entries))\n",
    "    print(\"Number of Entries:\", np.sum([len(entries[family]) for family in entries]))\n",
    "else:\n",
    "    print(\"Failed to fetch Entries:\", response.status_code)"
   ]
  },
  {
   "cell_type": "code",
   "execution_count": 13,
   "metadata": {},
   "outputs": [
    {
     "data": {
      "application/vnd.jupyter.widget-view+json": {
       "model_id": "af997d0b905841bea266f3e0e5724796",
       "version_major": 2,
       "version_minor": 0
      },
      "text/plain": [
       "  0%|          | 0/23 [00:00<?, ?it/s]"
      ]
     },
     "metadata": {},
     "output_type": "display_data"
    },
    {
     "data": {
      "application/vnd.jupyter.widget-view+json": {
       "model_id": "17b6745f4065436aaabec20f8bccc4b1",
       "version_major": 2,
       "version_minor": 0
      },
      "text/plain": [
       "  0%|          | 0/8 [00:00<?, ?it/s]"
      ]
     },
     "metadata": {},
     "output_type": "display_data"
    },
    {
     "data": {
      "application/vnd.jupyter.widget-view+json": {
       "model_id": "0628cfe6015a413d9f32b496a4e6e34d",
       "version_major": 2,
       "version_minor": 0
      },
      "text/plain": [
       "  0%|          | 0/1 [00:00<?, ?it/s]"
      ]
     },
     "metadata": {},
     "output_type": "display_data"
    },
    {
     "data": {
      "application/vnd.jupyter.widget-view+json": {
       "model_id": "e2dc6a636cd24fb7be8717237171789f",
       "version_major": 2,
       "version_minor": 0
      },
      "text/plain": [
       "  0%|          | 0/5 [00:00<?, ?it/s]"
      ]
     },
     "metadata": {},
     "output_type": "display_data"
    },
    {
     "data": {
      "application/vnd.jupyter.widget-view+json": {
       "model_id": "039c6c6c610746f2bd44a0782c4abb55",
       "version_major": 2,
       "version_minor": 0
      },
      "text/plain": [
       "  0%|          | 0/3 [00:00<?, ?it/s]"
      ]
     },
     "metadata": {},
     "output_type": "display_data"
    },
    {
     "data": {
      "application/vnd.jupyter.widget-view+json": {
       "model_id": "b6fdaee3c0e547da96ea094a9a29e0b6",
       "version_major": 2,
       "version_minor": 0
      },
      "text/plain": [
       "  0%|          | 0/2 [00:00<?, ?it/s]"
      ]
     },
     "metadata": {},
     "output_type": "display_data"
    },
    {
     "data": {
      "application/vnd.jupyter.widget-view+json": {
       "model_id": "18906c02b3ef474e85f03d5b46ba8d64",
       "version_major": 2,
       "version_minor": 0
      },
      "text/plain": [
       "  0%|          | 0/1 [00:00<?, ?it/s]"
      ]
     },
     "metadata": {},
     "output_type": "display_data"
    },
    {
     "data": {
      "application/vnd.jupyter.widget-view+json": {
       "model_id": "b43ccb4c01ac47508adc1e35d918a083",
       "version_major": 2,
       "version_minor": 0
      },
      "text/plain": [
       "  0%|          | 0/20 [00:00<?, ?it/s]"
      ]
     },
     "metadata": {},
     "output_type": "display_data"
    },
    {
     "data": {
      "application/vnd.jupyter.widget-view+json": {
       "model_id": "be9ee0186aaa48d1b61033e9ca0313c0",
       "version_major": 2,
       "version_minor": 0
      },
      "text/plain": [
       "  0%|          | 0/4 [00:00<?, ?it/s]"
      ]
     },
     "metadata": {},
     "output_type": "display_data"
    },
    {
     "data": {
      "application/vnd.jupyter.widget-view+json": {
       "model_id": "083142ff8a6b49b2b6e4a79c8437b691",
       "version_major": 2,
       "version_minor": 0
      },
      "text/plain": [
       "  0%|          | 0/1 [00:00<?, ?it/s]"
      ]
     },
     "metadata": {},
     "output_type": "display_data"
    },
    {
     "data": {
      "application/vnd.jupyter.widget-view+json": {
       "model_id": "47c1995168b24aa2ba79dd213b3b5ef5",
       "version_major": 2,
       "version_minor": 0
      },
      "text/plain": [
       "  0%|          | 0/5 [00:00<?, ?it/s]"
      ]
     },
     "metadata": {},
     "output_type": "display_data"
    },
    {
     "data": {
      "application/vnd.jupyter.widget-view+json": {
       "model_id": "c435b893bac34075bf36fa2cc372f924",
       "version_major": 2,
       "version_minor": 0
      },
      "text/plain": [
       "  0%|          | 0/2 [00:00<?, ?it/s]"
      ]
     },
     "metadata": {},
     "output_type": "display_data"
    },
    {
     "data": {
      "application/vnd.jupyter.widget-view+json": {
       "model_id": "8961baaceecf4269a7c393ee08cda02c",
       "version_major": 2,
       "version_minor": 0
      },
      "text/plain": [
       "  0%|          | 0/9 [00:00<?, ?it/s]"
      ]
     },
     "metadata": {},
     "output_type": "display_data"
    },
    {
     "data": {
      "application/vnd.jupyter.widget-view+json": {
       "model_id": "36e57f86011b471598256bd88d6ed551",
       "version_major": 2,
       "version_minor": 0
      },
      "text/plain": [
       "  0%|          | 0/61 [00:00<?, ?it/s]"
      ]
     },
     "metadata": {},
     "output_type": "display_data"
    },
    {
     "data": {
      "application/vnd.jupyter.widget-view+json": {
       "model_id": "8db4d38d7a984b3e93a545a488d9c003",
       "version_major": 2,
       "version_minor": 0
      },
      "text/plain": [
       "  0%|          | 0/1 [00:00<?, ?it/s]"
      ]
     },
     "metadata": {},
     "output_type": "display_data"
    },
    {
     "data": {
      "application/vnd.jupyter.widget-view+json": {
       "model_id": "72b80914836348fe9a345c1cd8b2711c",
       "version_major": 2,
       "version_minor": 0
      },
      "text/plain": [
       "  0%|          | 0/3 [00:00<?, ?it/s]"
      ]
     },
     "metadata": {},
     "output_type": "display_data"
    },
    {
     "data": {
      "application/vnd.jupyter.widget-view+json": {
       "model_id": "bf9f6f568ec745be96730c0902359504",
       "version_major": 2,
       "version_minor": 0
      },
      "text/plain": [
       "  0%|          | 0/1 [00:00<?, ?it/s]"
      ]
     },
     "metadata": {},
     "output_type": "display_data"
    },
    {
     "data": {
      "application/vnd.jupyter.widget-view+json": {
       "model_id": "f7a988c5d4dc4939a5f56fad0f1eaf36",
       "version_major": 2,
       "version_minor": 0
      },
      "text/plain": [
       "  0%|          | 0/167 [00:00<?, ?it/s]"
      ]
     },
     "metadata": {},
     "output_type": "display_data"
    },
    {
     "data": {
      "application/vnd.jupyter.widget-view+json": {
       "model_id": "d67a0fb6cb3a4cb3b634dda197766636",
       "version_major": 2,
       "version_minor": 0
      },
      "text/plain": [
       "  0%|          | 0/6 [00:00<?, ?it/s]"
      ]
     },
     "metadata": {},
     "output_type": "display_data"
    },
    {
     "data": {
      "application/vnd.jupyter.widget-view+json": {
       "model_id": "9df4faad1fc84ec793ab181cb2129b5d",
       "version_major": 2,
       "version_minor": 0
      },
      "text/plain": [
       "  0%|          | 0/1 [00:00<?, ?it/s]"
      ]
     },
     "metadata": {},
     "output_type": "display_data"
    },
    {
     "data": {
      "application/vnd.jupyter.widget-view+json": {
       "model_id": "2b7e77af68604061841334400e72c8df",
       "version_major": 2,
       "version_minor": 0
      },
      "text/plain": [
       "  0%|          | 0/6 [00:00<?, ?it/s]"
      ]
     },
     "metadata": {},
     "output_type": "display_data"
    },
    {
     "data": {
      "application/vnd.jupyter.widget-view+json": {
       "model_id": "a6d12abd52ec4eb19ace1243300101d6",
       "version_major": 2,
       "version_minor": 0
      },
      "text/plain": [
       "  0%|          | 0/2 [00:00<?, ?it/s]"
      ]
     },
     "metadata": {},
     "output_type": "display_data"
    },
    {
     "data": {
      "application/vnd.jupyter.widget-view+json": {
       "model_id": "bf563e232e4141a1827f6185f86368c3",
       "version_major": 2,
       "version_minor": 0
      },
      "text/plain": [
       "  0%|          | 0/2 [00:00<?, ?it/s]"
      ]
     },
     "metadata": {},
     "output_type": "display_data"
    },
    {
     "data": {
      "application/vnd.jupyter.widget-view+json": {
       "model_id": "da81d962b8b14487b7c214430d37071f",
       "version_major": 2,
       "version_minor": 0
      },
      "text/plain": [
       "  0%|          | 0/14 [00:00<?, ?it/s]"
      ]
     },
     "metadata": {},
     "output_type": "display_data"
    }
   ],
   "source": [
    "for family in tqdm(entries.items(), leave=False):\n",
    "    # print()\n",
    "    family_name = family[0]\n",
    "    # print(f\"### Family: {family}\")\n",
    "    # print(f\"Number of Entries: {len(family[1])}\")\n",
    "    # os.makedirs(f\"{BASE_DIR}/{T_NUMBER}/{family_name}\", exist_ok=True)\n",
    "    entries_in_family = family[1]\n",
    "\n",
    "    if type(entries_in_family) == dict:\n",
    "        entries_in_family = list(entries_in_family.values())\n",
    "\n",
    "    for entry in tqdm(entries_in_family, leave=False):\n",
    "        # print(f\"Entry: {entry}\")\n",
    "        # print(f\"genus: {entry['genus']}\")\n",
    "        # print(f\"entry_id: {entry['entry_id']}\")\n",
    "        entry_id = entry['entry_id']\n",
    "        genus = entry['genus']\n",
    "        os.makedirs(f\"{BASE_DIR}/T_{T_NUMBER}/{family_name}/{genus}\", exist_ok=True)\n",
    "        save_mvsj(entry_id, f\"{BASE_DIR}/T_{T_NUMBER}/{family_name}/{genus}/{entry_id}.mvsj\")\n",
    "        \n",
    "    "
   ]
  },
  {
   "cell_type": "code",
   "execution_count": null,
   "metadata": {},
   "outputs": [],
   "source": []
  }
 ],
 "metadata": {
  "kernelspec": {
   "display_name": "base",
   "language": "python",
   "name": "python3"
  },
  "language_info": {
   "codemirror_mode": {
    "name": "ipython",
    "version": 3
   },
   "file_extension": ".py",
   "mimetype": "text/x-python",
   "name": "python",
   "nbconvert_exporter": "python",
   "pygments_lexer": "ipython3",
   "version": "3.10.12"
  }
 },
 "nbformat": 4,
 "nbformat_minor": 2
}
